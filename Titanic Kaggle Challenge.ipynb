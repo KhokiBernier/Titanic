{
 "cells": [
  {
   "cell_type": "markdown",
   "metadata": {},
   "source": [
    "# Titanic Kaggle Competition\n",
    "\n",
    "**Result:** .787808, Top 15%\n",
    "\n",
    "# Overview of Steps\n",
    "1. Feature Analysis\n",
    "2. Feature Engineering\n",
    "3. Data Preprocessing\n",
    "4. Model Building\n",
    "5. Model Tuning\n",
    "6. Predict and Submit"
   ]
  },
  {
   "cell_type": "markdown",
   "metadata": {},
   "source": [
    "# Import Data and split training and test data"
   ]
  },
  {
   "cell_type": "code",
   "execution_count": 1,
   "metadata": {},
   "outputs": [],
   "source": [
    "import matplotlib.pyplot as plt\n",
    "import seaborn as sns\n",
    "import pandas as pd\n",
    "import numpy as np\n",
    "import pylab\n",
    "import math\n",
    "\n",
    "%matplotlib inline\n",
    "\n",
    "training = pd.read_csv('train.csv')\n",
    "test = pd.read_csv('test.csv')"
   ]
  },
  {
   "cell_type": "code",
   "execution_count": 2,
   "metadata": {},
   "outputs": [
    {
     "data": {
      "text/html": [
       "<div>\n",
       "<style scoped>\n",
       "    .dataframe tbody tr th:only-of-type {\n",
       "        vertical-align: middle;\n",
       "    }\n",
       "\n",
       "    .dataframe tbody tr th {\n",
       "        vertical-align: top;\n",
       "    }\n",
       "\n",
       "    .dataframe thead th {\n",
       "        text-align: right;\n",
       "    }\n",
       "</style>\n",
       "<table border=\"1\" class=\"dataframe\">\n",
       "  <thead>\n",
       "    <tr style=\"text-align: right;\">\n",
       "      <th></th>\n",
       "      <th>PassengerId</th>\n",
       "      <th>Survived</th>\n",
       "      <th>Pclass</th>\n",
       "      <th>Name</th>\n",
       "      <th>Sex</th>\n",
       "      <th>Age</th>\n",
       "      <th>SibSp</th>\n",
       "      <th>Parch</th>\n",
       "      <th>Ticket</th>\n",
       "      <th>Fare</th>\n",
       "      <th>Cabin</th>\n",
       "      <th>Embarked</th>\n",
       "    </tr>\n",
       "  </thead>\n",
       "  <tbody>\n",
       "    <tr>\n",
       "      <th>0</th>\n",
       "      <td>1</td>\n",
       "      <td>0</td>\n",
       "      <td>3</td>\n",
       "      <td>Braund, Mr. Owen Harris</td>\n",
       "      <td>male</td>\n",
       "      <td>22.0</td>\n",
       "      <td>1</td>\n",
       "      <td>0</td>\n",
       "      <td>A/5 21171</td>\n",
       "      <td>7.2500</td>\n",
       "      <td>NaN</td>\n",
       "      <td>S</td>\n",
       "    </tr>\n",
       "    <tr>\n",
       "      <th>1</th>\n",
       "      <td>2</td>\n",
       "      <td>1</td>\n",
       "      <td>1</td>\n",
       "      <td>Cumings, Mrs. John Bradley (Florence Briggs Th...</td>\n",
       "      <td>female</td>\n",
       "      <td>38.0</td>\n",
       "      <td>1</td>\n",
       "      <td>0</td>\n",
       "      <td>PC 17599</td>\n",
       "      <td>71.2833</td>\n",
       "      <td>C85</td>\n",
       "      <td>C</td>\n",
       "    </tr>\n",
       "    <tr>\n",
       "      <th>2</th>\n",
       "      <td>3</td>\n",
       "      <td>1</td>\n",
       "      <td>3</td>\n",
       "      <td>Heikkinen, Miss. Laina</td>\n",
       "      <td>female</td>\n",
       "      <td>26.0</td>\n",
       "      <td>0</td>\n",
       "      <td>0</td>\n",
       "      <td>STON/O2. 3101282</td>\n",
       "      <td>7.9250</td>\n",
       "      <td>NaN</td>\n",
       "      <td>S</td>\n",
       "    </tr>\n",
       "    <tr>\n",
       "      <th>3</th>\n",
       "      <td>4</td>\n",
       "      <td>1</td>\n",
       "      <td>1</td>\n",
       "      <td>Futrelle, Mrs. Jacques Heath (Lily May Peel)</td>\n",
       "      <td>female</td>\n",
       "      <td>35.0</td>\n",
       "      <td>1</td>\n",
       "      <td>0</td>\n",
       "      <td>113803</td>\n",
       "      <td>53.1000</td>\n",
       "      <td>C123</td>\n",
       "      <td>S</td>\n",
       "    </tr>\n",
       "    <tr>\n",
       "      <th>4</th>\n",
       "      <td>5</td>\n",
       "      <td>0</td>\n",
       "      <td>3</td>\n",
       "      <td>Allen, Mr. William Henry</td>\n",
       "      <td>male</td>\n",
       "      <td>35.0</td>\n",
       "      <td>0</td>\n",
       "      <td>0</td>\n",
       "      <td>373450</td>\n",
       "      <td>8.0500</td>\n",
       "      <td>NaN</td>\n",
       "      <td>S</td>\n",
       "    </tr>\n",
       "  </tbody>\n",
       "</table>\n",
       "</div>"
      ],
      "text/plain": [
       "   PassengerId  Survived  Pclass  \\\n",
       "0            1         0       3   \n",
       "1            2         1       1   \n",
       "2            3         1       3   \n",
       "3            4         1       1   \n",
       "4            5         0       3   \n",
       "\n",
       "                                                Name     Sex   Age  SibSp  \\\n",
       "0                            Braund, Mr. Owen Harris    male  22.0      1   \n",
       "1  Cumings, Mrs. John Bradley (Florence Briggs Th...  female  38.0      1   \n",
       "2                             Heikkinen, Miss. Laina  female  26.0      0   \n",
       "3       Futrelle, Mrs. Jacques Heath (Lily May Peel)  female  35.0      1   \n",
       "4                           Allen, Mr. William Henry    male  35.0      0   \n",
       "\n",
       "   Parch            Ticket     Fare Cabin Embarked  \n",
       "0      0         A/5 21171   7.2500   NaN        S  \n",
       "1      0          PC 17599  71.2833   C85        C  \n",
       "2      0  STON/O2. 3101282   7.9250   NaN        S  \n",
       "3      0            113803  53.1000  C123        S  \n",
       "4      0            373450   8.0500   NaN        S  "
      ]
     },
     "execution_count": 2,
     "metadata": {},
     "output_type": "execute_result"
    }
   ],
   "source": [
    "training.head()"
   ]
  },
  {
   "cell_type": "code",
   "execution_count": 3,
   "metadata": {},
   "outputs": [],
   "source": [
    "training['Train'] = 1\n",
    "test['Train'] = 0\n",
    "training['Died'] = 1 - training.Survived\n",
    "test['Survived'] = np.NaN\n",
    "test['Died'] = np.NaN\n",
    "combined = training.append(test)\n",
    "combined.reset_index(inplace=True)\n",
    "targets = training.Survived"
   ]
  },
  {
   "cell_type": "markdown",
   "metadata": {},
   "source": [
    "# Notes Complilation\n",
    "(compilation of notes write down as I analyze the features)"
   ]
  },
  {
   "cell_type": "markdown",
   "metadata": {},
   "source": [
    "Female strong indicator of survival\n",
    "\n",
    "Pclass 3 - most died\n",
    "\n",
    "Women and Children most likely to survive\n",
    "\n",
    "Passengers with cheap tickets died at a higher rate\n",
    "\n",
    "Most from Port S Died\n",
    "\n",
    "Names have titles, some are redundant and can be grouped together\n",
    "\n",
    "Lots of missing Ages and Cabins"
   ]
  },
  {
   "cell_type": "markdown",
   "metadata": {},
   "source": [
    "# Feature Analysis"
   ]
  },
  {
   "cell_type": "markdown",
   "metadata": {},
   "source": [
    "**Gender**"
   ]
  },
  {
   "cell_type": "markdown",
   "metadata": {},
   "source": [
    "counts"
   ]
  },
  {
   "cell_type": "code",
   "execution_count": 928,
   "metadata": {},
   "outputs": [
    {
     "data": {
      "text/plain": [
       "<matplotlib.axes._subplots.AxesSubplot at 0x7f9922ea89d0>"
      ]
     },
     "execution_count": 928,
     "metadata": {},
     "output_type": "execute_result"
    },
    {
     "data": {
      "image/png": "[encoded data removed]",
      "text/plain": [
       "<Figure size 432x288 with 1 Axes>"
      ]
     },
     "metadata": {
      "needs_background": "light"
     },
     "output_type": "display_data"
    }
   ],
   "source": [
    "training.groupby('Sex').agg('sum')[['Survived','Died']].plot(kind='bar', stacked = True,\n",
    "                                                            color =['navy','red'])"
   ]
  },
  {
   "cell_type": "markdown",
   "metadata": {},
   "source": [
    "Percentage"
   ]
  },
  {
   "cell_type": "code",
   "execution_count": 929,
   "metadata": {},
   "outputs": [
    {
     "data": {
      "text/plain": [
       "<matplotlib.axes._subplots.AxesSubplot at 0x7f9922f75150>"
      ]
     },
     "execution_count": 929,
     "metadata": {},
     "output_type": "execute_result"
    },
    {
     "data": {
      "image/png": "[encoded data removed]",
      "text/plain": [
       "<Figure size 432x288 with 1 Axes>"
      ]
     },
     "metadata": {
      "needs_background": "light"
     },
     "output_type": "display_data"
    }
   ],
   "source": [
    "training.groupby('Sex').agg('mean')[['Survived','Died']].plot(kind='bar', stacked = True,\n",
    "                                                            color =['navy','r'])\n",
    "#women more likely to survive"
   ]
  },
  {
   "cell_type": "code",
   "execution_count": null,
   "metadata": {},
   "outputs": [],
   "source": []
  },
  {
   "cell_type": "markdown",
   "metadata": {},
   "source": [
    "**Pclass**"
   ]
  },
  {
   "cell_type": "code",
   "execution_count": 930,
   "metadata": {},
   "outputs": [
    {
     "data": {
      "text/plain": [
       "<matplotlib.axes._subplots.AxesSubplot at 0x7f992305ba90>"
      ]
     },
     "execution_count": 930,
     "metadata": {},
     "output_type": "execute_result"
    },
    {
     "data": {
      "image/png": "[encoded data removed]",
      "text/plain": [
       "<Figure size 432x288 with 1 Axes>"
      ]
     },
     "metadata": {
      "needs_background": "light"
     },
     "output_type": "display_data"
    }
   ],
   "source": [
    "training.groupby('Pclass').agg('sum')[['Survived','Died']].plot(kind='bar', stacked = True,\n",
    "                                                            color =['navy','r'])"
   ]
  },
  {
   "cell_type": "code",
   "execution_count": 934,
   "metadata": {},
   "outputs": [
    {
     "data": {
      "text/plain": [
       "<matplotlib.axes._subplots.AxesSubplot at 0x7f99235c5b50>"
      ]
     },
     "execution_count": 934,
     "metadata": {},
     "output_type": "execute_result"
    },
    {
     "data": {
      "image/png": "[encoded data removed]",
      "text/plain": [
       "<Figure size 432x288 with 1 Axes>"
      ]
     },
     "metadata": {
      "needs_background": "light"
     },
     "output_type": "display_data"
    }
   ],
   "source": [
    "training.groupby('Pclass').agg('mean')[['Survived','Died']].plot(kind='bar', stacked = True,\n",
    "                                                            color =['navy','r'])"
   ]
  },
  {
   "cell_type": "code",
   "execution_count": 22,
   "metadata": {},
   "outputs": [
    {
     "data": {
      "text/html": [
       "<div>\n",
       "<style scoped>\n",
       "    .dataframe tbody tr th:only-of-type {\n",
       "        vertical-align: middle;\n",
       "    }\n",
       "\n",
       "    .dataframe tbody tr th {\n",
       "        vertical-align: top;\n",
       "    }\n",
       "\n",
       "    .dataframe thead th {\n",
       "        text-align: right;\n",
       "    }\n",
       "</style>\n",
       "<table border=\"1\" class=\"dataframe\">\n",
       "  <thead>\n",
       "    <tr style=\"text-align: right;\">\n",
       "      <th></th>\n",
       "      <th>Survived</th>\n",
       "      <th>Died</th>\n",
       "    </tr>\n",
       "    <tr>\n",
       "      <th>Pclass</th>\n",
       "      <th></th>\n",
       "      <th></th>\n",
       "    </tr>\n",
       "  </thead>\n",
       "  <tbody>\n",
       "    <tr>\n",
       "      <th>1</th>\n",
       "      <td>0.629630</td>\n",
       "      <td>0.370370</td>\n",
       "    </tr>\n",
       "    <tr>\n",
       "      <th>2</th>\n",
       "      <td>0.472826</td>\n",
       "      <td>0.527174</td>\n",
       "    </tr>\n",
       "    <tr>\n",
       "      <th>3</th>\n",
       "      <td>0.242363</td>\n",
       "      <td>0.757637</td>\n",
       "    </tr>\n",
       "  </tbody>\n",
       "</table>\n",
       "</div>"
      ],
      "text/plain": [
       "        Survived      Died\n",
       "Pclass                    \n",
       "1       0.629630  0.370370\n",
       "2       0.472826  0.527174\n",
       "3       0.242363  0.757637"
      ]
     },
     "execution_count": 22,
     "metadata": {},
     "output_type": "execute_result"
    }
   ],
   "source": [
    "training.groupby('Pclass').agg('mean')[['Survived','Died']]"
   ]
  },
  {
   "cell_type": "code",
   "execution_count": 21,
   "metadata": {},
   "outputs": [
    {
     "data": {
      "text/plain": [
       "<matplotlib.axes._subplots.AxesSubplot at 0x7f9946c22150>"
      ]
     },
     "execution_count": 21,
     "metadata": {},
     "output_type": "execute_result"
    },
    {
     "data": {
      "image/png": "[encoded data removed]",
      "text/plain": [
       "<Figure size 432x288 with 1 Axes>"
      ]
     },
     "metadata": {
      "needs_background": "light"
     },
     "output_type": "display_data"
    }
   ],
   "source": [
    "training.groupby('Pclass')['Pclass'].count().plot(kind='bar')"
   ]
  },
  {
   "cell_type": "markdown",
   "metadata": {},
   "source": [
    "**Age**"
   ]
  },
  {
   "cell_type": "code",
   "execution_count": 10,
   "metadata": {},
   "outputs": [
    {
     "name": "stderr",
     "output_type": "stream",
     "text": [
      "/Users/khokibernier/opt/anaconda3/lib/python3.7/site-packages/numpy/lib/histograms.py:839: RuntimeWarning: invalid value encountered in greater_equal\n",
      "  keep = (tmp_a >= first_edge)\n",
      "/Users/khokibernier/opt/anaconda3/lib/python3.7/site-packages/numpy/lib/histograms.py:840: RuntimeWarning: invalid value encountered in less_equal\n",
      "  keep &= (tmp_a <= last_edge)\n"
     ]
    },
    {
     "data": {
      "image/png": "[encoded data removed]",
      "text/plain": [
       "<Figure size 432x288 with 1 Axes>"
      ]
     },
     "metadata": {
      "needs_background": "light"
     },
     "output_type": "display_data"
    }
   ],
   "source": [
    "plt.hist(training['Age'], stacked=True)\n",
    "plt.title('Age')\n",
    "plt.show()"
   ]
  },
  {
   "cell_type": "code",
   "execution_count": 932,
   "metadata": {},
   "outputs": [
    {
     "data": {
      "image/png": "[encoded data removed]",
      "text/plain": [
       "<Figure size 1800x504 with 1 Axes>"
      ]
     },
     "metadata": {
      "needs_background": "light"
     },
     "output_type": "display_data"
    }
   ],
   "source": [
    "figure = plt.figure(figsize=(25, 7))\n",
    "plt.hist([training[training['Survived'] == 1]['Age'], training[training['Survived'] == 0]['Age']], \n",
    "         stacked=True, color = ['navy','r'],\n",
    "         bins = 50, label = ['Survived','Dead'])\n",
    "plt.xlabel('Age')\n",
    "plt.ylabel('Number of passengers')\n",
    "plt.legend();"
   ]
  },
  {
   "cell_type": "code",
   "execution_count": 12,
   "metadata": {},
   "outputs": [
    {
     "data": {
      "text/plain": [
       "<Figure size 1440x2160 with 0 Axes>"
      ]
     },
     "execution_count": 12,
     "metadata": {},
     "output_type": "execute_result"
    },
    {
     "data": {
      "image/png": "[encoded data removed]",
      "text/plain": [
       "<Figure size 216x216 with 1 Axes>"
      ]
     },
     "metadata": {
      "needs_background": "light"
     },
     "output_type": "display_data"
    },
    {
     "data": {
      "text/plain": [
       "<Figure size 1440x2160 with 0 Axes>"
      ]
     },
     "metadata": {},
     "output_type": "display_data"
    }
   ],
   "source": [
    "g2 = sns.FacetGrid(training[['Age','Survived']],  hue=\"Survived\", palette=\"Set1\")\n",
    "g2.map(plt.hist, 'Age',  ec=\"k\")\n",
    "\n",
    "plt.legend()\n",
    "plt.figure(figsize=(20,30))"
   ]
  },
  {
   "cell_type": "code",
   "execution_count": 13,
   "metadata": {
    "scrolled": true
   },
   "outputs": [
    {
     "data": {
      "text/plain": [
       "<Figure size 1440x2160 with 0 Axes>"
      ]
     },
     "execution_count": 13,
     "metadata": {},
     "output_type": "execute_result"
    },
    {
     "data": {
      "image/png": "[encoded data removed]",
      "text/plain": [
       "<Figure size 216x216 with 1 Axes>"
      ]
     },
     "metadata": {
      "needs_background": "light"
     },
     "output_type": "display_data"
    },
    {
     "data": {
      "text/plain": [
       "<Figure size 1440x2160 with 0 Axes>"
      ]
     },
     "metadata": {},
     "output_type": "display_data"
    }
   ],
   "source": [
    "#Children most likely to survive\n",
    "g2 = sns.FacetGrid(training[['Age','Survived']],  hue=\"Survived\", palette=\"Set1\") #col=\"variable\",col_wrap=2 , palette=\"Set1\"\n",
    "\n",
    "bins=np.linspace(training.Age.min(), training.Age.max(), 20)\n",
    "\n",
    "g2.map(plt.hist, 'Age',  ec=\"k\",bins=bins)#bins=bins,\n",
    "\n",
    "plt.legend()\n",
    "plt.figure(figsize=(20,30))"
   ]
  },
  {
   "cell_type": "code",
   "execution_count": 14,
   "metadata": {},
   "outputs": [],
   "source": [
    "bins = [0,5,10,15,20,25,30,35,40,45,50,55,60,65,70,75,80]\n",
    "training['binned_age'] = pd.cut(training['Age'], bins)"
   ]
  },
  {
   "cell_type": "code",
   "execution_count": 15,
   "metadata": {},
   "outputs": [
    {
     "data": {
      "image/png": "[encoded data removed]",
      "text/plain": [
       "<Figure size 432x288 with 1 Axes>"
      ]
     },
     "metadata": {
      "needs_background": "light"
     },
     "output_type": "display_data"
    }
   ],
   "source": [
    "sns.barplot(training['binned_age'].value_counts().index, training['binned_age'].value_counts()).set_title('Binned Age')\n",
    "plt.show()"
   ]
  },
  {
   "cell_type": "code",
   "execution_count": 935,
   "metadata": {},
   "outputs": [
    {
     "data": {
      "text/plain": [
       "<matplotlib.axes._subplots.AxesSubplot at 0x7f9923692ed0>"
      ]
     },
     "execution_count": 935,
     "metadata": {},
     "output_type": "execute_result"
    },
    {
     "data": {
      "image/png": "[encoded data removed]",
      "text/plain": [
       "<Figure size 432x288 with 1 Axes>"
      ]
     },
     "metadata": {
      "needs_background": "light"
     },
     "output_type": "display_data"
    }
   ],
   "source": [
    "training.groupby('binned_age').agg('sum')[['Survived','Died']].plot(kind='bar', stacked = True,\n",
    "                                                            color =['navy','r'])\n"
   ]
  },
  {
   "cell_type": "code",
   "execution_count": 936,
   "metadata": {},
   "outputs": [
    {
     "data": {
      "text/plain": [
       "<matplotlib.axes._subplots.AxesSubplot at 0x7f99237d7c90>"
      ]
     },
     "execution_count": 936,
     "metadata": {},
     "output_type": "execute_result"
    },
    {
     "data": {
      "image/png": "[encoded data removed]",
      "text/plain": [
       "<Figure size 432x288 with 1 Axes>"
      ]
     },
     "metadata": {
      "needs_background": "light"
     },
     "output_type": "display_data"
    }
   ],
   "source": [
    "training.groupby('binned_age').agg('mean')[['Survived','Died']].plot(kind='bar', stacked = True,\n",
    "                                                            color =['navy','r'])"
   ]
  },
  {
   "cell_type": "markdown",
   "metadata": {},
   "source": [
    "**Fare Ticket**"
   ]
  },
  {
   "cell_type": "code",
   "execution_count": 937,
   "metadata": {},
   "outputs": [
    {
     "data": {
      "image/png": "[encoded data removed]",
      "text/plain": [
       "<Figure size 1800x504 with 1 Axes>"
      ]
     },
     "metadata": {
      "needs_background": "light"
     },
     "output_type": "display_data"
    }
   ],
   "source": [
    "figure = plt.figure(figsize=(25, 7))\n",
    "plt.hist([training[training['Survived'] == 1]['Fare'], training[training['Survived'] == 0]['Fare']], \n",
    "         stacked=True, color = ['navy','r'],\n",
    "         bins = 50, label = ['Survived','Dead'])\n",
    "plt.xlabel('Fare')\n",
    "plt.ylabel('Number of passengers')\n",
    "plt.legend()"
   ]
  },
  {
   "cell_type": "code",
   "execution_count": 19,
   "metadata": {},
   "outputs": [],
   "source": [
    "#Passengers with cheap tickets died at a higher rate"
   ]
  },
  {
   "cell_type": "code",
   "execution_count": 20,
   "metadata": {},
   "outputs": [
    {
     "data": {
      "image/png": "[encoded data removed]",
      "text/plain": [
       "<Figure size 1800x504 with 1 Axes>"
      ]
     },
     "metadata": {
      "needs_background": "light"
     },
     "output_type": "display_data"
    }
   ],
   "source": [
    "#Ticket price to class comparison\n",
    "ax = plt.subplot()\n",
    "ax.set_ylabel('Average fare')\n",
    "training.groupby('Pclass')['Fare'].mean().plot(kind='bar', figsize=(25, 7), ax = ax);"
   ]
  },
  {
   "cell_type": "markdown",
   "metadata": {},
   "source": [
    "**Embarked**"
   ]
  },
  {
   "cell_type": "code",
   "execution_count": 939,
   "metadata": {},
   "outputs": [
    {
     "data": {
      "text/plain": [
       "<matplotlib.axes._subplots.AxesSubplot at 0x7f9924d8a250>"
      ]
     },
     "execution_count": 939,
     "metadata": {},
     "output_type": "execute_result"
    },
    {
     "data": {
      "image/png": "[encoded data removed]",
      "text/plain": [
       "<Figure size 432x288 with 1 Axes>"
      ]
     },
     "metadata": {
      "needs_background": "light"
     },
     "output_type": "display_data"
    }
   ],
   "source": [
    "training.groupby('Embarked').agg('sum')[['Survived','Died']].plot(kind='bar',stacked=True,color=['navy','r'])"
   ]
  },
  {
   "cell_type": "code",
   "execution_count": 940,
   "metadata": {},
   "outputs": [
    {
     "data": {
      "text/plain": [
       "<matplotlib.axes._subplots.AxesSubplot at 0x7f9924ac77d0>"
      ]
     },
     "execution_count": 940,
     "metadata": {},
     "output_type": "execute_result"
    },
    {
     "data": {
      "image/png": "[encoded data removed]",
      "text/plain": [
       "<Figure size 432x288 with 1 Axes>"
      ]
     },
     "metadata": {
      "needs_background": "light"
     },
     "output_type": "display_data"
    }
   ],
   "source": [
    "training.groupby('Embarked').agg('mean')[['Survived','Died']].plot(kind='bar',stacked=True,color=['navy','r'])"
   ]
  },
  {
   "cell_type": "code",
   "execution_count": 25,
   "metadata": {},
   "outputs": [],
   "source": [
    "#most from port S died"
   ]
  },
  {
   "cell_type": "markdown",
   "metadata": {},
   "source": [
    "**SibSp**"
   ]
  },
  {
   "cell_type": "code",
   "execution_count": 26,
   "metadata": {},
   "outputs": [
    {
     "data": {
      "text/plain": [
       "SibSp\n",
       "0    891\n",
       "1    319\n",
       "2     42\n",
       "3     20\n",
       "4     22\n",
       "5      6\n",
       "8      9\n",
       "Name: PassengerId, dtype: int64"
      ]
     },
     "execution_count": 26,
     "metadata": {},
     "output_type": "execute_result"
    }
   ],
   "source": [
    "combined.groupby('SibSp')['PassengerId'].count()"
   ]
  },
  {
   "cell_type": "code",
   "execution_count": 941,
   "metadata": {},
   "outputs": [
    {
     "data": {
      "text/plain": [
       "<matplotlib.axes._subplots.AxesSubplot at 0x7f9924f53090>"
      ]
     },
     "execution_count": 941,
     "metadata": {},
     "output_type": "execute_result"
    },
    {
     "data": {
      "image/png": "[encoded data removed]",
      "text/plain": [
       "<Figure size 432x288 with 1 Axes>"
      ]
     },
     "metadata": {
      "needs_background": "light"
     },
     "output_type": "display_data"
    }
   ],
   "source": [
    "combined.groupby('SibSp')[['Survived','Died']].agg('sum').plot(kind='bar',stacked=True, color=['navy','red'])"
   ]
  },
  {
   "cell_type": "code",
   "execution_count": 942,
   "metadata": {},
   "outputs": [
    {
     "data": {
      "text/plain": [
       "<matplotlib.axes._subplots.AxesSubplot at 0x7f99250529d0>"
      ]
     },
     "execution_count": 942,
     "metadata": {},
     "output_type": "execute_result"
    },
    {
     "data": {
      "image/png": "[encoded data removed]",
      "text/plain": [
       "<Figure size 432x288 with 1 Axes>"
      ]
     },
     "metadata": {
      "needs_background": "light"
     },
     "output_type": "display_data"
    }
   ],
   "source": [
    "combined.groupby('SibSp')[['Survived','Died']].agg('mean').plot(kind='bar',stacked=True, color=['navy','red'])"
   ]
  },
  {
   "cell_type": "code",
   "execution_count": 29,
   "metadata": {},
   "outputs": [],
   "source": [
    "#maybe group families by sizes (single, small (1,2), and large(3+))"
   ]
  },
  {
   "cell_type": "markdown",
   "metadata": {},
   "source": [
    "**Parch**"
   ]
  },
  {
   "cell_type": "code",
   "execution_count": 30,
   "metadata": {},
   "outputs": [
    {
     "data": {
      "text/plain": [
       "Parch\n",
       "0    1002\n",
       "1     170\n",
       "2     113\n",
       "3       8\n",
       "4       6\n",
       "5       6\n",
       "6       2\n",
       "9       2\n",
       "Name: PassengerId, dtype: int64"
      ]
     },
     "execution_count": 30,
     "metadata": {},
     "output_type": "execute_result"
    }
   ],
   "source": [
    "combined.groupby('Parch')['PassengerId'].count()"
   ]
  },
  {
   "cell_type": "code",
   "execution_count": 943,
   "metadata": {},
   "outputs": [
    {
     "data": {
      "text/plain": [
       "<matplotlib.axes._subplots.AxesSubplot at 0x7f9925152590>"
      ]
     },
     "execution_count": 943,
     "metadata": {},
     "output_type": "execute_result"
    },
    {
     "data": {
      "image/png": "[encoded data removed]",
      "text/plain": [
       "<Figure size 432x288 with 1 Axes>"
      ]
     },
     "metadata": {
      "needs_background": "light"
     },
     "output_type": "display_data"
    }
   ],
   "source": [
    "combined.groupby('Parch')[['Survived','Died']].agg('sum').plot(kind='bar',stacked=True, color=['navy','red'])"
   ]
  },
  {
   "cell_type": "code",
   "execution_count": 944,
   "metadata": {},
   "outputs": [
    {
     "data": {
      "text/plain": [
       "<matplotlib.axes._subplots.AxesSubplot at 0x7f9925263390>"
      ]
     },
     "execution_count": 944,
     "metadata": {},
     "output_type": "execute_result"
    },
    {
     "data": {
      "image/png": "[encoded data removed]",
      "text/plain": [
       "<Figure size 432x288 with 1 Axes>"
      ]
     },
     "metadata": {
      "needs_background": "light"
     },
     "output_type": "display_data"
    }
   ],
   "source": [
    "combined.groupby('Parch')[['Survived','Died']].agg('mean').plot(kind='bar',stacked=True, color=['navy','red'])"
   ]
  },
  {
   "cell_type": "code",
   "execution_count": 33,
   "metadata": {},
   "outputs": [
    {
     "data": {
      "text/plain": [
       "SibSp\n",
       "0    283\n",
       "1    110\n",
       "2     14\n",
       "3      4\n",
       "4      4\n",
       "5      1\n",
       "8      2\n",
       "Name: PassengerId, dtype: int64"
      ]
     },
     "execution_count": 33,
     "metadata": {},
     "output_type": "execute_result"
    }
   ],
   "source": [
    "test.groupby('SibSp')['PassengerId'].count()"
   ]
  },
  {
   "cell_type": "markdown",
   "metadata": {},
   "source": [
    "# Feature Engineering"
   ]
  },
  {
   "cell_type": "markdown",
   "metadata": {},
   "source": [
    "**Name Prefix**\n",
    "\n",
    "Pull Name Prefix, then group redunancies/similar"
   ]
  },
  {
   "cell_type": "code",
   "execution_count": 34,
   "metadata": {},
   "outputs": [],
   "source": [
    "combined['Name_Pre'] = combined.Name.apply(lambda x: x.split(',')[1].split('.')[0][1:])"
   ]
  },
  {
   "cell_type": "code",
   "execution_count": 946,
   "metadata": {},
   "outputs": [
    {
     "data": {
      "text/plain": [
       "<matplotlib.axes._subplots.AxesSubplot at 0x7f992355cc90>"
      ]
     },
     "execution_count": 946,
     "metadata": {},
     "output_type": "execute_result"
    },
    {
     "data": {
      "image/png": "[encoded data removed]",
      "text/plain": [
       "<Figure size 432x288 with 1 Axes>"
      ]
     },
     "metadata": {
      "needs_background": "light"
     },
     "output_type": "display_data"
    }
   ],
   "source": [
    "combined.groupby('Name_Pre').agg('sum')[['Survived','Died']].plot(kind='bar',stacked = True, color=['navy','red'])"
   ]
  },
  {
   "cell_type": "code",
   "execution_count": 947,
   "metadata": {},
   "outputs": [
    {
     "data": {
      "text/plain": [
       "<matplotlib.axes._subplots.AxesSubplot at 0x7f994674f890>"
      ]
     },
     "execution_count": 947,
     "metadata": {},
     "output_type": "execute_result"
    },
    {
     "data": {
      "image/png": "[encoded data removed]",
      "text/plain": [
       "<Figure size 432x288 with 1 Axes>"
      ]
     },
     "metadata": {
      "needs_background": "light"
     },
     "output_type": "display_data"
    }
   ],
   "source": [
    "combined.groupby('Name_Pre').agg('mean')[['Survived','Died']].plot(kind='bar',stacked = True, color=['navy','red'])"
   ]
  },
  {
   "cell_type": "code",
   "execution_count": 166,
   "metadata": {},
   "outputs": [
    {
     "data": {
      "text/html": [
       "<div>\n",
       "<style scoped>\n",
       "    .dataframe tbody tr th:only-of-type {\n",
       "        vertical-align: middle;\n",
       "    }\n",
       "\n",
       "    .dataframe tbody tr th {\n",
       "        vertical-align: top;\n",
       "    }\n",
       "\n",
       "    .dataframe thead th {\n",
       "        text-align: right;\n",
       "    }\n",
       "</style>\n",
       "<table border=\"1\" class=\"dataframe\">\n",
       "  <thead>\n",
       "    <tr style=\"text-align: right;\">\n",
       "      <th></th>\n",
       "      <th>Survived</th>\n",
       "      <th>Died</th>\n",
       "    </tr>\n",
       "    <tr>\n",
       "      <th>Name_Pre</th>\n",
       "      <th></th>\n",
       "      <th></th>\n",
       "    </tr>\n",
       "  </thead>\n",
       "  <tbody>\n",
       "    <tr>\n",
       "      <th>Capt</th>\n",
       "      <td>0.0</td>\n",
       "      <td>1.0</td>\n",
       "    </tr>\n",
       "    <tr>\n",
       "      <th>Col</th>\n",
       "      <td>1.0</td>\n",
       "      <td>1.0</td>\n",
       "    </tr>\n",
       "    <tr>\n",
       "      <th>Don</th>\n",
       "      <td>0.0</td>\n",
       "      <td>1.0</td>\n",
       "    </tr>\n",
       "    <tr>\n",
       "      <th>Dona</th>\n",
       "      <td>0.0</td>\n",
       "      <td>0.0</td>\n",
       "    </tr>\n",
       "    <tr>\n",
       "      <th>Dr</th>\n",
       "      <td>3.0</td>\n",
       "      <td>4.0</td>\n",
       "    </tr>\n",
       "    <tr>\n",
       "      <th>Jonkheer</th>\n",
       "      <td>0.0</td>\n",
       "      <td>1.0</td>\n",
       "    </tr>\n",
       "    <tr>\n",
       "      <th>Lady</th>\n",
       "      <td>1.0</td>\n",
       "      <td>0.0</td>\n",
       "    </tr>\n",
       "    <tr>\n",
       "      <th>Major</th>\n",
       "      <td>1.0</td>\n",
       "      <td>1.0</td>\n",
       "    </tr>\n",
       "    <tr>\n",
       "      <th>Master</th>\n",
       "      <td>23.0</td>\n",
       "      <td>17.0</td>\n",
       "    </tr>\n",
       "    <tr>\n",
       "      <th>Miss</th>\n",
       "      <td>127.0</td>\n",
       "      <td>55.0</td>\n",
       "    </tr>\n",
       "    <tr>\n",
       "      <th>Mlle</th>\n",
       "      <td>2.0</td>\n",
       "      <td>0.0</td>\n",
       "    </tr>\n",
       "    <tr>\n",
       "      <th>Mme</th>\n",
       "      <td>1.0</td>\n",
       "      <td>0.0</td>\n",
       "    </tr>\n",
       "    <tr>\n",
       "      <th>Mr</th>\n",
       "      <td>81.0</td>\n",
       "      <td>436.0</td>\n",
       "    </tr>\n",
       "    <tr>\n",
       "      <th>Mrs</th>\n",
       "      <td>99.0</td>\n",
       "      <td>26.0</td>\n",
       "    </tr>\n",
       "    <tr>\n",
       "      <th>Ms</th>\n",
       "      <td>1.0</td>\n",
       "      <td>0.0</td>\n",
       "    </tr>\n",
       "    <tr>\n",
       "      <th>Rev</th>\n",
       "      <td>0.0</td>\n",
       "      <td>6.0</td>\n",
       "    </tr>\n",
       "    <tr>\n",
       "      <th>Sir</th>\n",
       "      <td>1.0</td>\n",
       "      <td>0.0</td>\n",
       "    </tr>\n",
       "    <tr>\n",
       "      <th>the Countess</th>\n",
       "      <td>1.0</td>\n",
       "      <td>0.0</td>\n",
       "    </tr>\n",
       "  </tbody>\n",
       "</table>\n",
       "</div>"
      ],
      "text/plain": [
       "              Survived   Died\n",
       "Name_Pre                     \n",
       "Capt               0.0    1.0\n",
       "Col                1.0    1.0\n",
       "Don                0.0    1.0\n",
       "Dona               0.0    0.0\n",
       "Dr                 3.0    4.0\n",
       "Jonkheer           0.0    1.0\n",
       "Lady               1.0    0.0\n",
       "Major              1.0    1.0\n",
       "Master            23.0   17.0\n",
       "Miss             127.0   55.0\n",
       "Mlle               2.0    0.0\n",
       "Mme                1.0    0.0\n",
       "Mr                81.0  436.0\n",
       "Mrs               99.0   26.0\n",
       "Ms                 1.0    0.0\n",
       "Rev                0.0    6.0\n",
       "Sir                1.0    0.0\n",
       "the Countess       1.0    0.0"
      ]
     },
     "execution_count": 166,
     "metadata": {},
     "output_type": "execute_result"
    }
   ],
   "source": [
    "sorted(combined['Name_Pre'].unique())\n",
    "combined.groupby('Name_Pre')[['Survived','Died']].agg('sum')"
   ]
  },
  {
   "cell_type": "code",
   "execution_count": 948,
   "metadata": {},
   "outputs": [
    {
     "data": {
      "text/plain": [
       "<matplotlib.axes._subplots.AxesSubplot at 0x7f994676bcd0>"
      ]
     },
     "execution_count": 948,
     "metadata": {},
     "output_type": "execute_result"
    },
    {
     "data": {
      "image/png": "[encoded data removed]",
      "text/plain": [
       "<Figure size 432x288 with 1 Axes>"
      ]
     },
     "metadata": {
      "needs_background": "light"
     },
     "output_type": "display_data"
    }
   ],
   "source": [
    "combined[combined.Name_Pre != 'Mr'].groupby('Name_Pre').agg('sum')[['Survived','Died']].plot(kind='bar',stacked = True, color=['navy','red'])"
   ]
  },
  {
   "cell_type": "code",
   "execution_count": 949,
   "metadata": {},
   "outputs": [
    {
     "data": {
      "text/plain": [
       "<matplotlib.axes._subplots.AxesSubplot at 0x7f9923315090>"
      ]
     },
     "execution_count": 949,
     "metadata": {},
     "output_type": "execute_result"
    },
    {
     "data": {
      "image/png": "[encoded data removed]",
      "text/plain": [
       "<Figure size 432x288 with 1 Axes>"
      ]
     },
     "metadata": {
      "needs_background": "light"
     },
     "output_type": "display_data"
    }
   ],
   "source": [
    "combined[(combined.Name_Pre != 'Mrs') & (combined.Name_Pre != 'Mr')&(combined.Name_Pre != 'Miss')].groupby('Name_Pre').agg('sum')[['Survived','Died']].plot(kind='bar',stacked = True, color=['navy','red'])"
   ]
  },
  {
   "cell_type": "code",
   "execution_count": 258,
   "metadata": {},
   "outputs": [
    {
     "data": {
      "text/plain": [
       "array(['Mr', 'Mrs', 'Ms', 'Master', 'Elite', 'Employee'], dtype=object)"
      ]
     },
     "execution_count": 258,
     "metadata": {},
     "output_type": "execute_result"
    }
   ],
   "source": [
    "combined.Name_Pre.unique()\n",
    "combined['Name_Pre_Group'] = combined['Name_Pre'].copy()\n",
    "combined['Name_Pre_Group'] = combined['Name_Pre_Group'].replace(['Mrs','Mme'], 'Mrs')\n",
    "combined['Name_Pre_Group'] = combined['Name_Pre_Group'].replace(['Ms','Miss','Mlle'], 'Ms')\n",
    "combined['Name_Pre_Group'] = combined['Name_Pre_Group'].replace(['Don','Lady','Sir','the Countess','Dona','Jonkheer'], 'Elite')\n",
    "combined['Name_Pre_Group'] = combined['Name_Pre_Group'].replace(['Rev','Dr','Col','Capt','Major'], 'Employee')\n",
    "\n",
    "combined.Name_Pre_Group.unique()"
   ]
  },
  {
   "cell_type": "markdown",
   "metadata": {},
   "source": [
    "**Missing Age Values**\n",
    "\n",
    "Replace Missing Age values by predicting Age based on median age of similar Pclass and name prefix passengers"
   ]
  },
  {
   "cell_type": "code",
   "execution_count": 40,
   "metadata": {
    "scrolled": false
   },
   "outputs": [
    {
     "data": {
      "text/html": [
       "<div>\n",
       "<style scoped>\n",
       "    .dataframe tbody tr th:only-of-type {\n",
       "        vertical-align: middle;\n",
       "    }\n",
       "\n",
       "    .dataframe tbody tr th {\n",
       "        vertical-align: top;\n",
       "    }\n",
       "\n",
       "    .dataframe thead th {\n",
       "        text-align: right;\n",
       "    }\n",
       "</style>\n",
       "<table border=\"1\" class=\"dataframe\">\n",
       "  <thead>\n",
       "    <tr style=\"text-align: right;\">\n",
       "      <th></th>\n",
       "      <th>Pclass</th>\n",
       "      <th>Name_Pre</th>\n",
       "      <th>Age</th>\n",
       "    </tr>\n",
       "  </thead>\n",
       "  <tbody>\n",
       "    <tr>\n",
       "      <th>0</th>\n",
       "      <td>1</td>\n",
       "      <td>Capt</td>\n",
       "      <td>70.0</td>\n",
       "    </tr>\n",
       "    <tr>\n",
       "      <th>1</th>\n",
       "      <td>1</td>\n",
       "      <td>Col</td>\n",
       "      <td>54.5</td>\n",
       "    </tr>\n",
       "    <tr>\n",
       "      <th>2</th>\n",
       "      <td>1</td>\n",
       "      <td>Don</td>\n",
       "      <td>40.0</td>\n",
       "    </tr>\n",
       "    <tr>\n",
       "      <th>3</th>\n",
       "      <td>1</td>\n",
       "      <td>Dona</td>\n",
       "      <td>39.0</td>\n",
       "    </tr>\n",
       "    <tr>\n",
       "      <th>4</th>\n",
       "      <td>1</td>\n",
       "      <td>Dr</td>\n",
       "      <td>49.0</td>\n",
       "    </tr>\n",
       "    <tr>\n",
       "      <th>5</th>\n",
       "      <td>1</td>\n",
       "      <td>Jonkheer</td>\n",
       "      <td>38.0</td>\n",
       "    </tr>\n",
       "    <tr>\n",
       "      <th>6</th>\n",
       "      <td>1</td>\n",
       "      <td>Lady</td>\n",
       "      <td>48.0</td>\n",
       "    </tr>\n",
       "    <tr>\n",
       "      <th>7</th>\n",
       "      <td>1</td>\n",
       "      <td>Major</td>\n",
       "      <td>48.5</td>\n",
       "    </tr>\n",
       "    <tr>\n",
       "      <th>8</th>\n",
       "      <td>1</td>\n",
       "      <td>Master</td>\n",
       "      <td>6.0</td>\n",
       "    </tr>\n",
       "    <tr>\n",
       "      <th>9</th>\n",
       "      <td>1</td>\n",
       "      <td>Miss</td>\n",
       "      <td>30.0</td>\n",
       "    </tr>\n",
       "    <tr>\n",
       "      <th>10</th>\n",
       "      <td>1</td>\n",
       "      <td>Mlle</td>\n",
       "      <td>24.0</td>\n",
       "    </tr>\n",
       "    <tr>\n",
       "      <th>11</th>\n",
       "      <td>1</td>\n",
       "      <td>Mme</td>\n",
       "      <td>24.0</td>\n",
       "    </tr>\n",
       "    <tr>\n",
       "      <th>12</th>\n",
       "      <td>1</td>\n",
       "      <td>Mr</td>\n",
       "      <td>41.5</td>\n",
       "    </tr>\n",
       "    <tr>\n",
       "      <th>13</th>\n",
       "      <td>1</td>\n",
       "      <td>Mrs</td>\n",
       "      <td>45.0</td>\n",
       "    </tr>\n",
       "    <tr>\n",
       "      <th>14</th>\n",
       "      <td>1</td>\n",
       "      <td>Sir</td>\n",
       "      <td>49.0</td>\n",
       "    </tr>\n",
       "    <tr>\n",
       "      <th>15</th>\n",
       "      <td>1</td>\n",
       "      <td>the Countess</td>\n",
       "      <td>33.0</td>\n",
       "    </tr>\n",
       "    <tr>\n",
       "      <th>16</th>\n",
       "      <td>2</td>\n",
       "      <td>Dr</td>\n",
       "      <td>38.5</td>\n",
       "    </tr>\n",
       "    <tr>\n",
       "      <th>17</th>\n",
       "      <td>2</td>\n",
       "      <td>Master</td>\n",
       "      <td>2.0</td>\n",
       "    </tr>\n",
       "    <tr>\n",
       "      <th>18</th>\n",
       "      <td>2</td>\n",
       "      <td>Miss</td>\n",
       "      <td>20.0</td>\n",
       "    </tr>\n",
       "    <tr>\n",
       "      <th>19</th>\n",
       "      <td>2</td>\n",
       "      <td>Mr</td>\n",
       "      <td>30.0</td>\n",
       "    </tr>\n",
       "    <tr>\n",
       "      <th>20</th>\n",
       "      <td>2</td>\n",
       "      <td>Mrs</td>\n",
       "      <td>30.5</td>\n",
       "    </tr>\n",
       "    <tr>\n",
       "      <th>21</th>\n",
       "      <td>2</td>\n",
       "      <td>Ms</td>\n",
       "      <td>28.0</td>\n",
       "    </tr>\n",
       "    <tr>\n",
       "      <th>22</th>\n",
       "      <td>2</td>\n",
       "      <td>Rev</td>\n",
       "      <td>41.5</td>\n",
       "    </tr>\n",
       "    <tr>\n",
       "      <th>23</th>\n",
       "      <td>3</td>\n",
       "      <td>Master</td>\n",
       "      <td>6.0</td>\n",
       "    </tr>\n",
       "    <tr>\n",
       "      <th>24</th>\n",
       "      <td>3</td>\n",
       "      <td>Miss</td>\n",
       "      <td>18.0</td>\n",
       "    </tr>\n",
       "    <tr>\n",
       "      <th>25</th>\n",
       "      <td>3</td>\n",
       "      <td>Mr</td>\n",
       "      <td>26.0</td>\n",
       "    </tr>\n",
       "    <tr>\n",
       "      <th>26</th>\n",
       "      <td>3</td>\n",
       "      <td>Mrs</td>\n",
       "      <td>31.0</td>\n",
       "    </tr>\n",
       "    <tr>\n",
       "      <th>27</th>\n",
       "      <td>3</td>\n",
       "      <td>Ms</td>\n",
       "      <td>NaN</td>\n",
       "    </tr>\n",
       "  </tbody>\n",
       "</table>\n",
       "</div>"
      ],
      "text/plain": [
       "    Pclass      Name_Pre   Age\n",
       "0        1          Capt  70.0\n",
       "1        1           Col  54.5\n",
       "2        1           Don  40.0\n",
       "3        1          Dona  39.0\n",
       "4        1            Dr  49.0\n",
       "5        1      Jonkheer  38.0\n",
       "6        1          Lady  48.0\n",
       "7        1         Major  48.5\n",
       "8        1        Master   6.0\n",
       "9        1          Miss  30.0\n",
       "10       1          Mlle  24.0\n",
       "11       1           Mme  24.0\n",
       "12       1            Mr  41.5\n",
       "13       1           Mrs  45.0\n",
       "14       1           Sir  49.0\n",
       "15       1  the Countess  33.0\n",
       "16       2            Dr  38.5\n",
       "17       2        Master   2.0\n",
       "18       2          Miss  20.0\n",
       "19       2            Mr  30.0\n",
       "20       2           Mrs  30.5\n",
       "21       2            Ms  28.0\n",
       "22       2           Rev  41.5\n",
       "23       3        Master   6.0\n",
       "24       3          Miss  18.0\n",
       "25       3            Mr  26.0\n",
       "26       3           Mrs  31.0\n",
       "27       3            Ms   NaN"
      ]
     },
     "execution_count": 40,
     "metadata": {},
     "output_type": "execute_result"
    }
   ],
   "source": [
    "training.Age.isnull().sum()\n",
    "df_age_replacer = combined.iloc[:].groupby(['Pclass','Name_Pre'])\n",
    "df_age_replacer = df_age_replacer.median()\n",
    "df_age_replacer = df_age_replacer.reset_index()[['Pclass','Name_Pre','Age']]\n",
    "df_age_replacer"
   ]
  },
  {
   "cell_type": "code",
   "execution_count": 41,
   "metadata": {},
   "outputs": [
    {
     "data": {
      "text/plain": [
       "index            0\n",
       "PassengerId      0\n",
       "Survived        86\n",
       "Pclass           0\n",
       "Name             0\n",
       "Sex              0\n",
       "Age            263\n",
       "SibSp            0\n",
       "Parch            0\n",
       "Ticket           0\n",
       "Fare             0\n",
       "Cabin          240\n",
       "Embarked         0\n",
       "Train            0\n",
       "Died            86\n",
       "Name_Pre         0\n",
       "dtype: int64"
      ]
     },
     "execution_count": 41,
     "metadata": {},
     "output_type": "execute_result"
    }
   ],
   "source": [
    "combined[combined.Age.isna()==True].isna().sum()"
   ]
  },
  {
   "cell_type": "code",
   "execution_count": 42,
   "metadata": {},
   "outputs": [
    {
     "data": {
      "text/plain": [
       "Pclass\n",
       "1    39.0\n",
       "2    29.0\n",
       "3    24.0\n",
       "Name: Age, dtype: float64"
      ]
     },
     "execution_count": 42,
     "metadata": {},
     "output_type": "execute_result"
    }
   ],
   "source": [
    "combined.groupby('Embarked')['Age'].median()\n",
    "combined.groupby('Sex')['Age'].median()\n",
    "combined.groupby('Pclass')['Age'].median()"
   ]
  },
  {
   "cell_type": "code",
   "execution_count": 43,
   "metadata": {},
   "outputs": [],
   "source": [
    "def Age_Replace(row):\n",
    "    if pd.isna(row.Age):\n",
    "        if pd.isna(df_age_replacer[(df_age_replacer.Pclass == row.Pclass) & (df_age_replacer.Name_Pre == row.Name_Pre)]['Age'].values[0]):\n",
    "            return combined.Age.median()\n",
    "        else:\n",
    "            return df_age_replacer[(df_age_replacer.Pclass == row.Pclass) & (df_age_replacer.Name_Pre == row.Name_Pre)]['Age'].values[0]"
   ]
  },
  {
   "cell_type": "code",
   "execution_count": 44,
   "metadata": {},
   "outputs": [],
   "source": [
    "combined['Age2'] = combined.apply(lambda row: Age_Replace(row) if pd.isna(row['Age']) else row['Age'],axis=1)"
   ]
  },
  {
   "cell_type": "markdown",
   "metadata": {},
   "source": [
    "**Fare**\n",
    "\n",
    "Replace Null (only 1 value) with mean fare passenger Pclass"
   ]
  },
  {
   "cell_type": "code",
   "execution_count": 45,
   "metadata": {},
   "outputs": [],
   "source": [
    "combined[combined.Fare.isna()==True]\n",
    "combined.groupby('Pclass')['Fare'].mean()\n",
    "combined['Fare'] = combined.Fare.fillna(13.302889)"
   ]
  },
  {
   "cell_type": "markdown",
   "metadata": {},
   "source": [
    "**Embarked**\n",
    "\n",
    "Replace null (only 2 values) with most common (s)"
   ]
  },
  {
   "cell_type": "code",
   "execution_count": 46,
   "metadata": {},
   "outputs": [
    {
     "data": {
      "text/html": [
       "<div>\n",
       "<style scoped>\n",
       "    .dataframe tbody tr th:only-of-type {\n",
       "        vertical-align: middle;\n",
       "    }\n",
       "\n",
       "    .dataframe tbody tr th {\n",
       "        vertical-align: top;\n",
       "    }\n",
       "\n",
       "    .dataframe thead th {\n",
       "        text-align: right;\n",
       "    }\n",
       "</style>\n",
       "<table border=\"1\" class=\"dataframe\">\n",
       "  <thead>\n",
       "    <tr style=\"text-align: right;\">\n",
       "      <th></th>\n",
       "      <th>index</th>\n",
       "      <th>PassengerId</th>\n",
       "      <th>Survived</th>\n",
       "      <th>Pclass</th>\n",
       "      <th>Name</th>\n",
       "      <th>Sex</th>\n",
       "      <th>Age</th>\n",
       "      <th>SibSp</th>\n",
       "      <th>Parch</th>\n",
       "      <th>Ticket</th>\n",
       "      <th>Fare</th>\n",
       "      <th>Cabin</th>\n",
       "      <th>Embarked</th>\n",
       "      <th>Train</th>\n",
       "      <th>Died</th>\n",
       "      <th>Name_Pre</th>\n",
       "      <th>Age2</th>\n",
       "    </tr>\n",
       "  </thead>\n",
       "  <tbody>\n",
       "    <tr>\n",
       "      <th>61</th>\n",
       "      <td>61</td>\n",
       "      <td>62</td>\n",
       "      <td>1.0</td>\n",
       "      <td>1</td>\n",
       "      <td>Icard, Miss. Amelie</td>\n",
       "      <td>female</td>\n",
       "      <td>38.0</td>\n",
       "      <td>0</td>\n",
       "      <td>0</td>\n",
       "      <td>113572</td>\n",
       "      <td>80.0</td>\n",
       "      <td>B28</td>\n",
       "      <td>NaN</td>\n",
       "      <td>1</td>\n",
       "      <td>0.0</td>\n",
       "      <td>Miss</td>\n",
       "      <td>38.0</td>\n",
       "    </tr>\n",
       "    <tr>\n",
       "      <th>829</th>\n",
       "      <td>829</td>\n",
       "      <td>830</td>\n",
       "      <td>1.0</td>\n",
       "      <td>1</td>\n",
       "      <td>Stone, Mrs. George Nelson (Martha Evelyn)</td>\n",
       "      <td>female</td>\n",
       "      <td>62.0</td>\n",
       "      <td>0</td>\n",
       "      <td>0</td>\n",
       "      <td>113572</td>\n",
       "      <td>80.0</td>\n",
       "      <td>B28</td>\n",
       "      <td>NaN</td>\n",
       "      <td>1</td>\n",
       "      <td>0.0</td>\n",
       "      <td>Mrs</td>\n",
       "      <td>62.0</td>\n",
       "    </tr>\n",
       "  </tbody>\n",
       "</table>\n",
       "</div>"
      ],
      "text/plain": [
       "     index  PassengerId  Survived  Pclass  \\\n",
       "61      61           62       1.0       1   \n",
       "829    829          830       1.0       1   \n",
       "\n",
       "                                          Name     Sex   Age  SibSp  Parch  \\\n",
       "61                         Icard, Miss. Amelie  female  38.0      0      0   \n",
       "829  Stone, Mrs. George Nelson (Martha Evelyn)  female  62.0      0      0   \n",
       "\n",
       "     Ticket  Fare Cabin Embarked  Train  Died Name_Pre  Age2  \n",
       "61   113572  80.0   B28      NaN      1   0.0     Miss  38.0  \n",
       "829  113572  80.0   B28      NaN      1   0.0      Mrs  62.0  "
      ]
     },
     "execution_count": 46,
     "metadata": {},
     "output_type": "execute_result"
    }
   ],
   "source": [
    "combined[combined.Embarked.isna()==True]"
   ]
  },
  {
   "cell_type": "code",
   "execution_count": 47,
   "metadata": {},
   "outputs": [],
   "source": [
    "#Majority of 1st class passengers embarked from S\n",
    "combined[combined.Pclass == 1].groupby('Embarked')['PassengerId'].count()\n",
    "combined['Embarked'] = combined.Embarked.fillna('S')"
   ]
  },
  {
   "cell_type": "markdown",
   "metadata": {},
   "source": [
    "**Cabin**\n",
    "\n",
    "Missing 1014 values\n",
    "\n",
    "Tried multiple things:\n",
    "- **Cabin First Letter, treat NaNs as seperate letter (best result)** - Cabin_letter\n",
    "- Cabin First Letter, distribute NaNs based on Pclass percentages - Cabin_Matrix\n",
    "- Cabin First Letter, distribute NaNs based on populated cabin percentages - Cabin_Fill\n",
    "- Considered adding column for passengers with multiple columns, but did not - Cabin_Multiple"
   ]
  },
  {
   "cell_type": "code",
   "execution_count": 48,
   "metadata": {},
   "outputs": [
    {
     "data": {
      "text/plain": [
       "array([nan, 'C85', 'C123', 'E46', 'G6', 'C103', 'D56', 'A6',\n",
       "       'C23 C25 C27', 'B78', 'D33', 'B30', 'C52', 'B28', 'C83', 'F33',\n",
       "       'F G73', 'E31', 'A5', 'D10 D12', 'D26', 'C110', 'B58 B60', 'E101',\n",
       "       'F E69', 'D47', 'B86', 'F2', 'C2', 'E33', 'B19', 'A7', 'C49', 'F4',\n",
       "       'A32', 'B4', 'B80', 'A31', 'D36', 'D15', 'C93', 'C78', 'D35',\n",
       "       'C87', 'B77', 'E67', 'B94', 'C125', 'C99', 'C118', 'D7', 'A19',\n",
       "       'B49', 'D', 'C22 C26', 'C106', 'C65', 'E36', 'C54',\n",
       "       'B57 B59 B63 B66', 'C7', 'E34', 'C32', 'B18', 'C124', 'C91', 'E40',\n",
       "       'T', 'C128', 'D37', 'B35', 'E50', 'C82', 'B96 B98', 'E10', 'E44',\n",
       "       'A34', 'C104', 'C111', 'C92', 'E38', 'D21', 'E12', 'E63', 'A14',\n",
       "       'B37', 'C30', 'D20', 'B79', 'E25', 'D46', 'B73', 'C95', 'B38',\n",
       "       'B39', 'B22', 'C86', 'C70', 'A16', 'C101', 'C68', 'A10', 'E68',\n",
       "       'B41', 'A20', 'D19', 'D50', 'D9', 'A23', 'B50', 'A26', 'D48',\n",
       "       'E58', 'C126', 'B71', 'B51 B53 B55', 'D49', 'B5', 'B20', 'F G63',\n",
       "       'C62 C64', 'E24', 'C90', 'C45', 'E8', 'B101', 'D45', 'C46', 'D30',\n",
       "       'E121', 'D11', 'E77', 'F38', 'B3', 'D6', 'B82 B84', 'D17', 'A36',\n",
       "       'B102', 'B69', 'E49', 'C47', 'D28', 'E17', 'A24', 'C50', 'B42',\n",
       "       'C148', 'B45', 'B36', 'A21', 'D34', 'A9', 'C31', 'B61', 'C53',\n",
       "       'D43', 'C130', 'C132', 'C55 C57', 'C116', 'F', 'A29', 'C6', 'C28',\n",
       "       'C51', 'C97', 'D22', 'B10', 'E45', 'E52', 'A11', 'B11', 'C80',\n",
       "       'C89', 'F E46', 'B26', 'F E57', 'A18', 'E60', 'E39 E41',\n",
       "       'B52 B54 B56', 'C39', 'B24', 'D40', 'D38', 'C105'], dtype=object)"
      ]
     },
     "execution_count": 48,
     "metadata": {},
     "output_type": "execute_result"
    }
   ],
   "source": [
    "combined.Cabin.unique()"
   ]
  },
  {
   "cell_type": "code",
   "execution_count": 171,
   "metadata": {},
   "outputs": [
    {
     "data": {
      "text/plain": [
       "Cabin_letter\n",
       "A      22\n",
       "B      65\n",
       "C      94\n",
       "D      46\n",
       "E      41\n",
       "F      21\n",
       "G       5\n",
       "N    1014\n",
       "T       1\n",
       "Name: PassengerId, dtype: int64"
      ]
     },
     "execution_count": 171,
     "metadata": {},
     "output_type": "execute_result"
    }
   ],
   "source": [
    "combined.Cabin.unique()\n",
    "sorted(combined.groupby('Cabin')['PassengerId'].count())\n",
    "combined['Cabin_letter'] = combined.Cabin.apply(lambda x: 'N' if pd.isna(x) else x[:1])\n",
    "combined.groupby('Cabin_letter')['PassengerId'].count()"
   ]
  },
  {
   "cell_type": "code",
   "execution_count": 951,
   "metadata": {},
   "outputs": [
    {
     "data": {
      "text/plain": [
       "<matplotlib.axes._subplots.AxesSubplot at 0x7f992563c390>"
      ]
     },
     "execution_count": 951,
     "metadata": {},
     "output_type": "execute_result"
    },
    {
     "data": {
      "image/png": "[encoded data removed]",
      "text/plain": [
       "<Figure size 432x288 with 1 Axes>"
      ]
     },
     "metadata": {
      "needs_background": "light"
     },
     "output_type": "display_data"
    }
   ],
   "source": [
    "combined.groupby('Cabin_letter')[['Survived','Died']].agg('sum').plot(kind='bar',stacked=True,color=['navy','red'])"
   ]
  },
  {
   "cell_type": "code",
   "execution_count": 952,
   "metadata": {},
   "outputs": [
    {
     "data": {
      "text/plain": [
       "<matplotlib.axes._subplots.AxesSubplot at 0x7f992585ac90>"
      ]
     },
     "execution_count": 952,
     "metadata": {},
     "output_type": "execute_result"
    },
    {
     "data": {
      "image/png": "[encoded data removed]",
      "text/plain": [
       "<Figure size 432x288 with 1 Axes>"
      ]
     },
     "metadata": {
      "needs_background": "light"
     },
     "output_type": "display_data"
    }
   ],
   "source": [
    "combined.groupby('Cabin_letter')[['Survived','Died']].agg('mean').plot(kind='bar',stacked=True, color=['navy','red'])"
   ]
  },
  {
   "cell_type": "code",
   "execution_count": 174,
   "metadata": {},
   "outputs": [
    {
     "data": {
      "text/html": [
       "<div>\n",
       "<style scoped>\n",
       "    .dataframe tbody tr th:only-of-type {\n",
       "        vertical-align: middle;\n",
       "    }\n",
       "\n",
       "    .dataframe tbody tr th {\n",
       "        vertical-align: top;\n",
       "    }\n",
       "\n",
       "    .dataframe thead th {\n",
       "        text-align: right;\n",
       "    }\n",
       "</style>\n",
       "<table border=\"1\" class=\"dataframe\">\n",
       "  <thead>\n",
       "    <tr style=\"text-align: right;\">\n",
       "      <th>Cabin_letter</th>\n",
       "      <th>A</th>\n",
       "      <th>B</th>\n",
       "      <th>C</th>\n",
       "      <th>D</th>\n",
       "      <th>E</th>\n",
       "      <th>F</th>\n",
       "      <th>G</th>\n",
       "      <th>N</th>\n",
       "      <th>T</th>\n",
       "    </tr>\n",
       "    <tr>\n",
       "      <th>Pclass</th>\n",
       "      <th></th>\n",
       "      <th></th>\n",
       "      <th></th>\n",
       "      <th></th>\n",
       "      <th></th>\n",
       "      <th></th>\n",
       "      <th></th>\n",
       "      <th></th>\n",
       "      <th></th>\n",
       "    </tr>\n",
       "  </thead>\n",
       "  <tbody>\n",
       "    <tr>\n",
       "      <th>1</th>\n",
       "      <td>22.0</td>\n",
       "      <td>65.0</td>\n",
       "      <td>94.0</td>\n",
       "      <td>40.0</td>\n",
       "      <td>34.0</td>\n",
       "      <td>NaN</td>\n",
       "      <td>NaN</td>\n",
       "      <td>67.0</td>\n",
       "      <td>1.0</td>\n",
       "    </tr>\n",
       "    <tr>\n",
       "      <th>2</th>\n",
       "      <td>NaN</td>\n",
       "      <td>NaN</td>\n",
       "      <td>NaN</td>\n",
       "      <td>6.0</td>\n",
       "      <td>4.0</td>\n",
       "      <td>13.0</td>\n",
       "      <td>NaN</td>\n",
       "      <td>254.0</td>\n",
       "      <td>NaN</td>\n",
       "    </tr>\n",
       "    <tr>\n",
       "      <th>3</th>\n",
       "      <td>NaN</td>\n",
       "      <td>NaN</td>\n",
       "      <td>NaN</td>\n",
       "      <td>NaN</td>\n",
       "      <td>3.0</td>\n",
       "      <td>8.0</td>\n",
       "      <td>5.0</td>\n",
       "      <td>693.0</td>\n",
       "      <td>NaN</td>\n",
       "    </tr>\n",
       "  </tbody>\n",
       "</table>\n",
       "</div>"
      ],
      "text/plain": [
       "Cabin_letter     A     B     C     D     E     F    G      N    T\n",
       "Pclass                                                           \n",
       "1             22.0  65.0  94.0  40.0  34.0   NaN  NaN   67.0  1.0\n",
       "2              NaN   NaN   NaN   6.0   4.0  13.0  NaN  254.0  NaN\n",
       "3              NaN   NaN   NaN   NaN   3.0   8.0  5.0  693.0  NaN"
      ]
     },
     "execution_count": 174,
     "metadata": {},
     "output_type": "execute_result"
    }
   ],
   "source": [
    "combined.groupby('Pclass')['Cabin_letter'].count()\n",
    "pd.pivot_table(combined, index = 'Pclass',columns = 'Cabin_letter',values = 'Ticket', aggfunc='count')"
   ]
  },
  {
   "cell_type": "code",
   "execution_count": 175,
   "metadata": {},
   "outputs": [
    {
     "data": {
      "text/html": [
       "<div>\n",
       "<style scoped>\n",
       "    .dataframe tbody tr th:only-of-type {\n",
       "        vertical-align: middle;\n",
       "    }\n",
       "\n",
       "    .dataframe tbody tr th {\n",
       "        vertical-align: top;\n",
       "    }\n",
       "\n",
       "    .dataframe thead th {\n",
       "        text-align: right;\n",
       "    }\n",
       "</style>\n",
       "<table border=\"1\" class=\"dataframe\">\n",
       "  <thead>\n",
       "    <tr style=\"text-align: right;\">\n",
       "      <th></th>\n",
       "      <th>Survived</th>\n",
       "      <th>Died</th>\n",
       "    </tr>\n",
       "    <tr>\n",
       "      <th>Cabin_letter</th>\n",
       "      <th></th>\n",
       "      <th></th>\n",
       "    </tr>\n",
       "  </thead>\n",
       "  <tbody>\n",
       "    <tr>\n",
       "      <th>A</th>\n",
       "      <td>0.466667</td>\n",
       "      <td>0.533333</td>\n",
       "    </tr>\n",
       "    <tr>\n",
       "      <th>B</th>\n",
       "      <td>0.744681</td>\n",
       "      <td>0.255319</td>\n",
       "    </tr>\n",
       "    <tr>\n",
       "      <th>C</th>\n",
       "      <td>0.593220</td>\n",
       "      <td>0.406780</td>\n",
       "    </tr>\n",
       "    <tr>\n",
       "      <th>D</th>\n",
       "      <td>0.757576</td>\n",
       "      <td>0.242424</td>\n",
       "    </tr>\n",
       "    <tr>\n",
       "      <th>E</th>\n",
       "      <td>0.750000</td>\n",
       "      <td>0.250000</td>\n",
       "    </tr>\n",
       "    <tr>\n",
       "      <th>F</th>\n",
       "      <td>0.615385</td>\n",
       "      <td>0.384615</td>\n",
       "    </tr>\n",
       "    <tr>\n",
       "      <th>G</th>\n",
       "      <td>0.500000</td>\n",
       "      <td>0.500000</td>\n",
       "    </tr>\n",
       "    <tr>\n",
       "      <th>N</th>\n",
       "      <td>0.299854</td>\n",
       "      <td>0.700146</td>\n",
       "    </tr>\n",
       "    <tr>\n",
       "      <th>T</th>\n",
       "      <td>0.000000</td>\n",
       "      <td>1.000000</td>\n",
       "    </tr>\n",
       "  </tbody>\n",
       "</table>\n",
       "</div>"
      ],
      "text/plain": [
       "              Survived      Died\n",
       "Cabin_letter                    \n",
       "A             0.466667  0.533333\n",
       "B             0.744681  0.255319\n",
       "C             0.593220  0.406780\n",
       "D             0.757576  0.242424\n",
       "E             0.750000  0.250000\n",
       "F             0.615385  0.384615\n",
       "G             0.500000  0.500000\n",
       "N             0.299854  0.700146\n",
       "T             0.000000  1.000000"
      ]
     },
     "execution_count": 175,
     "metadata": {},
     "output_type": "execute_result"
    }
   ],
   "source": [
    "combined.groupby('Cabin_letter')[['Survived','Died']].agg('mean')"
   ]
  },
  {
   "cell_type": "code",
   "execution_count": 177,
   "metadata": {},
   "outputs": [
    {
     "data": {
      "text/plain": [
       "Cabin_letter\n",
       "A     41.244314\n",
       "B    122.383078\n",
       "C    107.926598\n",
       "D     53.007339\n",
       "E     54.564634\n",
       "F     18.079367\n",
       "G     14.205000\n",
       "N     19.126958\n",
       "T     35.500000\n",
       "Name: Fare, dtype: float64"
      ]
     },
     "execution_count": 177,
     "metadata": {},
     "output_type": "execute_result"
    }
   ],
   "source": [
    "#Could try filling NaN cabin letters by distrubuting the above based on %\n",
    "#or fill cabin using Fare paid\n",
    "combined.groupby('Cabin_letter')['Fare'].mean()"
   ]
  },
  {
   "cell_type": "code",
   "execution_count": 360,
   "metadata": {},
   "outputs": [
    {
     "data": {
      "text/plain": [
       "Cabin_letter\n",
       "A    22\n",
       "B    65\n",
       "C    94\n",
       "D    40\n",
       "E    34\n",
       "T     1\n",
       "Name: PassengerId, dtype: int64"
      ]
     },
     "execution_count": 360,
     "metadata": {},
     "output_type": "execute_result"
    }
   ],
   "source": [
    "combined[(combined.Cabin.isna()==False) & (combined.Pclass == '1')].groupby('Cabin_letter')['PassengerId'].count()"
   ]
  },
  {
   "cell_type": "markdown",
   "metadata": {},
   "source": [
    "Create dataframe with Cabin letter, Pclass, and percentage of passengers in each cabin letter by Pclass"
   ]
  },
  {
   "cell_type": "code",
   "execution_count": 386,
   "metadata": {},
   "outputs": [],
   "source": [
    "#P-Class 1\n",
    "df_cabin_p1 = pd.DataFrame(combined[(combined.Cabin.isna()==False) & (combined.Pclass == '1')]['Cabin_letter'].value_counts(normalize=True))\n",
    "df_cabin_p1['Pclass'] = 1\n",
    "df_cabin_p1.rename(columns={'Cabin_letter': 'Pcntg'},inplace=True)\n",
    "df_cabin_p1['Cabin_letter'] = df_cabin_p1.index\n",
    "\n",
    "#P-Class 2\n",
    "df_cabin_p2 = pd.DataFrame(combined[(combined.Cabin.isna()==False) & (combined.Pclass == '2')]['Cabin_letter'].value_counts(normalize=True))\n",
    "df_cabin_p2['Pclass'] = 2\n",
    "df_cabin_p2.rename(columns={'Cabin_letter': 'Pcntg'},inplace=True)\n",
    "df_cabin_p2['Cabin_letter'] = df_cabin_p2.index\n",
    "\n",
    "#P-Class 3\n",
    "df_cabin_p3 = pd.DataFrame(combined[(combined.Cabin.isna()==False) & (combined.Pclass == '3')]['Cabin_letter'].value_counts(normalize=True))\n",
    "df_cabin_p3['Pclass'] = 3\n",
    "df_cabin_p3.rename(columns={'Cabin_letter': 'Pcntg'},inplace=True)\n",
    "df_cabin_p3['Cabin_letter'] = df_cabin_p3.index\n",
    "\n",
    "#combine\n",
    "cabin_matrix = pd.concat([df_cabin_p1, df_cabin_p2,df_cabin_p3],)"
   ]
  },
  {
   "cell_type": "code",
   "execution_count": 387,
   "metadata": {},
   "outputs": [
    {
     "data": {
      "text/html": [
       "<div>\n",
       "<style scoped>\n",
       "    .dataframe tbody tr th:only-of-type {\n",
       "        vertical-align: middle;\n",
       "    }\n",
       "\n",
       "    .dataframe tbody tr th {\n",
       "        vertical-align: top;\n",
       "    }\n",
       "\n",
       "    .dataframe thead th {\n",
       "        text-align: right;\n",
       "    }\n",
       "</style>\n",
       "<table border=\"1\" class=\"dataframe\">\n",
       "  <thead>\n",
       "    <tr style=\"text-align: right;\">\n",
       "      <th></th>\n",
       "      <th>Pcntg</th>\n",
       "      <th>Pclass</th>\n",
       "      <th>Cabin_letter</th>\n",
       "    </tr>\n",
       "  </thead>\n",
       "  <tbody>\n",
       "    <tr>\n",
       "      <th>C</th>\n",
       "      <td>0.367188</td>\n",
       "      <td>1</td>\n",
       "      <td>C</td>\n",
       "    </tr>\n",
       "    <tr>\n",
       "      <th>B</th>\n",
       "      <td>0.253906</td>\n",
       "      <td>1</td>\n",
       "      <td>B</td>\n",
       "    </tr>\n",
       "    <tr>\n",
       "      <th>D</th>\n",
       "      <td>0.156250</td>\n",
       "      <td>1</td>\n",
       "      <td>D</td>\n",
       "    </tr>\n",
       "    <tr>\n",
       "      <th>E</th>\n",
       "      <td>0.132812</td>\n",
       "      <td>1</td>\n",
       "      <td>E</td>\n",
       "    </tr>\n",
       "    <tr>\n",
       "      <th>A</th>\n",
       "      <td>0.085938</td>\n",
       "      <td>1</td>\n",
       "      <td>A</td>\n",
       "    </tr>\n",
       "    <tr>\n",
       "      <th>T</th>\n",
       "      <td>0.003906</td>\n",
       "      <td>1</td>\n",
       "      <td>T</td>\n",
       "    </tr>\n",
       "    <tr>\n",
       "      <th>F</th>\n",
       "      <td>0.565217</td>\n",
       "      <td>2</td>\n",
       "      <td>F</td>\n",
       "    </tr>\n",
       "    <tr>\n",
       "      <th>D</th>\n",
       "      <td>0.260870</td>\n",
       "      <td>2</td>\n",
       "      <td>D</td>\n",
       "    </tr>\n",
       "    <tr>\n",
       "      <th>E</th>\n",
       "      <td>0.173913</td>\n",
       "      <td>2</td>\n",
       "      <td>E</td>\n",
       "    </tr>\n",
       "    <tr>\n",
       "      <th>F</th>\n",
       "      <td>0.500000</td>\n",
       "      <td>3</td>\n",
       "      <td>F</td>\n",
       "    </tr>\n",
       "    <tr>\n",
       "      <th>G</th>\n",
       "      <td>0.312500</td>\n",
       "      <td>3</td>\n",
       "      <td>G</td>\n",
       "    </tr>\n",
       "    <tr>\n",
       "      <th>E</th>\n",
       "      <td>0.187500</td>\n",
       "      <td>3</td>\n",
       "      <td>E</td>\n",
       "    </tr>\n",
       "  </tbody>\n",
       "</table>\n",
       "</div>"
      ],
      "text/plain": [
       "      Pcntg  Pclass Cabin_letter\n",
       "C  0.367188       1            C\n",
       "B  0.253906       1            B\n",
       "D  0.156250       1            D\n",
       "E  0.132812       1            E\n",
       "A  0.085938       1            A\n",
       "T  0.003906       1            T\n",
       "F  0.565217       2            F\n",
       "D  0.260870       2            D\n",
       "E  0.173913       2            E\n",
       "F  0.500000       3            F\n",
       "G  0.312500       3            G\n",
       "E  0.187500       3            E"
      ]
     },
     "execution_count": 387,
     "metadata": {},
     "output_type": "execute_result"
    }
   ],
   "source": [
    "cabin_matrix"
   ]
  },
  {
   "cell_type": "markdown",
   "metadata": {},
   "source": [
    "Cabin_Matrix will be our Cabin NaNs populated using the table above"
   ]
  },
  {
   "cell_type": "code",
   "execution_count": 468,
   "metadata": {},
   "outputs": [],
   "source": [
    "combined['Cabin_Matrix'] = combined.Cabin.str[:1].copy()"
   ]
  },
  {
   "cell_type": "code",
   "execution_count": 409,
   "metadata": {},
   "outputs": [
    {
     "name": "stdout",
     "output_type": "stream",
     "text": [
      "Pclass = 1: 67 nulls\n",
      "C:  24.601596\n",
      "B:  17.011702\n",
      "D:  10.46875\n",
      "E:  8.898404000000001\n",
      "A:  5.757846\n",
      "T:  0.261702\n",
      "\n",
      "Pclass = 2: 254 nulls\n",
      "C:  143.56511799999998\n",
      "B:  66.26098\n",
      "D:  44.173902000000005\n",
      "\n",
      "Pclass = 3: 693 nulls\n",
      "C:  346.5\n",
      "B:  216.5625\n",
      "D:  129.9375\n"
     ]
    }
   ],
   "source": [
    "#67 null Pclass = 1\n",
    "print('Pclass = 1: 67 nulls')\n",
    "print('C: ',67*0.367188)\n",
    "print('B: ',67*.253906)\n",
    "print('D: ',67*0.156250)\n",
    "print('E: ',67*0.132812)\n",
    "print('A: ',67*0.085938)\n",
    "print('T: ',67*0.003906)\n",
    "print('')\n",
    "\n",
    "#254 null Pclass = 2\n",
    "print('Pclass = 2: 254 nulls')\n",
    "print('F: ',254*0.565217)\n",
    "print('D: ',254*0.260870)\n",
    "print('E: ',254*0.173913)\n",
    "print('')\n",
    "\n",
    "#693 null Pclass = 3\n",
    "print('Pclass = 3: 693 nulls')\n",
    "print('F: ',693*0.500000)\n",
    "print('G: ',693*0.312500)\n",
    "print('E: ',693*0.187500)"
   ]
  },
  {
   "cell_type": "code",
   "execution_count": 469,
   "metadata": {},
   "outputs": [],
   "source": [
    "#Pclass 1\n",
    "for index in combined[(combined['Cabin_Matrix'].isna()==True)&(combined.Pclass=='1')].Cabin_Matrix[0:25].index:\n",
    "    combined.at[index,'Cabin_Matrix'] = 'C'\n",
    "for index in combined[(combined['Cabin_Matrix'].isna()==True)&(combined.Pclass=='1')].Cabin_Matrix[0:17].index:\n",
    "    combined.at[index,'Cabin_Matrix'] = 'B'\n",
    "for index in combined[(combined['Cabin_Matrix'].isna()==True)&(combined.Pclass=='1')].Cabin_Matrix[0:10].index:\n",
    "    combined.at[index,'Cabin_Matrix'] = 'D'\n",
    "for index in combined[(combined['Cabin_Matrix'].isna()==True)&(combined.Pclass=='1')].Cabin_Matrix[0:9].index:\n",
    "    combined.at[index,'Cabin_Matrix'] = 'E'\n",
    "for index in combined[(combined['Cabin_Matrix'].isna()==True)&(combined.Pclass=='1')].Cabin_Matrix[0:5].index:\n",
    "    combined.at[index,'Cabin_Matrix'] = 'A'\n",
    "for index in combined[(combined['Cabin_Matrix'].isna()==True)&(combined.Pclass=='1')].Cabin_Matrix[0:1].index:\n",
    "    combined.at[index,'Cabin_Matrix'] = 'T'"
   ]
  },
  {
   "cell_type": "code",
   "execution_count": 470,
   "metadata": {},
   "outputs": [],
   "source": [
    "#Pclass 2\n",
    "for index in combined[(combined['Cabin_Matrix'].isna()==True)&(combined.Pclass=='2')].Cabin_Matrix[0:144].index:\n",
    "    combined.at[index,'Cabin_Matrix'] = 'F'\n",
    "for index in combined[(combined['Cabin_Matrix'].isna()==True)&(combined.Pclass=='2')].Cabin_Matrix[0:66].index:\n",
    "    combined.at[index,'Cabin_Matrix'] = 'D'\n",
    "for index in combined[(combined['Cabin_Matrix'].isna()==True)&(combined.Pclass=='2')].Cabin_Matrix[0:44].index:\n",
    "    combined.at[index,'Cabin_Matrix'] = 'E'"
   ]
  },
  {
   "cell_type": "code",
   "execution_count": 471,
   "metadata": {},
   "outputs": [],
   "source": [
    "#Pclass 3\n",
    "for index in combined[(combined['Cabin_Matrix'].isna()==True)&(combined.Pclass=='3')].Cabin_Matrix[0:347].index:\n",
    "    combined.at[index,'Cabin_Matrix'] = 'F'\n",
    "for index in combined[(combined['Cabin_Matrix'].isna()==True)&(combined.Pclass=='3')].Cabin_Matrix[0:217].index:\n",
    "    combined.at[index,'Cabin_Matrix'] = 'G'\n",
    "for index in combined[(combined['Cabin_Matrix'].isna()==True)&(combined.Pclass=='3')].Cabin_Matrix[0:129].index:\n",
    "    combined.at[index,'Cabin_Matrix'] = 'E'"
   ]
  },
  {
   "cell_type": "code",
   "execution_count": 650,
   "metadata": {},
   "outputs": [
    {
     "data": {
      "text/plain": [
       "Cabin_Multiple\n",
       "0    1014\n",
       "1     254\n",
       "2      26\n",
       "3      10\n",
       "4       5\n",
       "Name: PassengerId, dtype: int64"
      ]
     },
     "execution_count": 650,
     "metadata": {},
     "output_type": "execute_result"
    }
   ],
   "source": [
    "combined['Cabin_Multiple'] = combined.Cabin.apply(lambda x: 0 if pd.isna(x) else len(x.split()))\n",
    "combined.groupby('Cabin_Multiple')['PassengerId'].count()"
   ]
  },
  {
   "cell_type": "markdown",
   "metadata": {},
   "source": [
    "Cabin_Fill will be our Cabin NaNs populated based on distribution of populated cabins that we do have"
   ]
  },
  {
   "cell_type": "code",
   "execution_count": 777,
   "metadata": {},
   "outputs": [
    {
     "data": {
      "text/plain": [
       "0       NaN\n",
       "1         C\n",
       "2       NaN\n",
       "3         C\n",
       "4       NaN\n",
       "       ... \n",
       "1304    NaN\n",
       "1305      C\n",
       "1306    NaN\n",
       "1307    NaN\n",
       "1308    NaN\n",
       "Name: Cabin_Fill, Length: 1309, dtype: object"
      ]
     },
     "execution_count": 777,
     "metadata": {},
     "output_type": "execute_result"
    }
   ],
   "source": [
    "combined['Cabin_Fill'] = combined.Cabin.str[:1].copy()\n",
    "combined.Cabin_Fill"
   ]
  },
  {
   "cell_type": "code",
   "execution_count": 779,
   "metadata": {},
   "outputs": [
    {
     "data": {
      "text/plain": [
       "C    0.318644\n",
       "B    0.220339\n",
       "D    0.155932\n",
       "E    0.138983\n",
       "A    0.074576\n",
       "F    0.071186\n",
       "G    0.016949\n",
       "T    0.003390\n",
       "Name: Cabin_letter, dtype: float64"
      ]
     },
     "execution_count": 779,
     "metadata": {},
     "output_type": "execute_result"
    }
   ],
   "source": [
    "#Cabin distribution percentage of populated cabins\n",
    "combined[combined.Cabin_letter!='N']['Cabin_letter'].value_counts(normalize=True)"
   ]
  },
  {
   "cell_type": "code",
   "execution_count": 781,
   "metadata": {},
   "outputs": [
    {
     "name": "stdout",
     "output_type": "stream",
     "text": [
      "C:  323.105016\n",
      "B:  223.423746\n",
      "D:  158.11504799999997\n",
      "E:  140.928762\n",
      "A:  75.620064\n",
      "F:  72.182604\n",
      "G:  17.186286\n",
      "T:  3.4374599999999997\n"
     ]
    }
   ],
   "source": [
    "print('C: ',1014*0.318644)\n",
    "print('B: ',1014*0.220339)\n",
    "print('D: ',1014*0.155932)\n",
    "print('E: ',1014*0.138983)\n",
    "print('A: ',1014*0.074576)\n",
    "print('F: ',1014*0.071186)\n",
    "print('G: ',1014*0.016949)\n",
    "print('T: ',1014*0.003390)"
   ]
  },
  {
   "cell_type": "code",
   "execution_count": 784,
   "metadata": {},
   "outputs": [],
   "source": [
    "#Fill\n",
    "for index in combined[combined['Cabin_Fill'].isna()==True].Cabin_Matrix[0:323].index:\n",
    "    combined.at[index,'Cabin_Fill'] = 'C'\n",
    "for index in combined[combined['Cabin_Fill'].isna()==True].Cabin_Matrix[0:224].index:\n",
    "    combined.at[index,'Cabin_Fill'] = 'B'\n",
    "for index in combined[combined['Cabin_Fill'].isna()==True].Cabin_Matrix[0:158].index:\n",
    "    combined.at[index,'Cabin_Fill'] = 'D'\n",
    "for index in combined[combined['Cabin_Fill'].isna()==True].Cabin_Matrix[0:141].index:\n",
    "    combined.at[index,'Cabin_Fill'] = 'E'\n",
    "for index in combined[combined['Cabin_Fill'].isna()==True].Cabin_Matrix[0:76].index:\n",
    "    combined.at[index,'Cabin_Fill'] = 'A'\n",
    "for index in combined[combined['Cabin_Fill'].isna()==True].Cabin_Matrix[0:72].index:\n",
    "    combined.at[index,'Cabin_Fill'] = 'F'\n",
    "for index in combined[combined['Cabin_Fill'].isna()==True].Cabin_Matrix[0:17].index:\n",
    "    combined.at[index,'Cabin_Fill'] = 'G'\n",
    "for index in combined[combined['Cabin_Fill'].isna()==True].Cabin_Matrix[0:3].index:\n",
    "    combined.at[index,'Cabin_Fill'] = 'T'"
   ]
  },
  {
   "cell_type": "code",
   "execution_count": 787,
   "metadata": {},
   "outputs": [
    {
     "data": {
      "text/plain": [
       "C    31.856379\n",
       "B    22.077922\n",
       "D    15.584416\n",
       "E    13.903743\n",
       "A     7.486631\n",
       "F     7.104660\n",
       "G     1.680672\n",
       "T     0.305577\n",
       "Name: Cabin_Fill, dtype: float64"
      ]
     },
     "execution_count": 787,
     "metadata": {},
     "output_type": "execute_result"
    }
   ],
   "source": [
    "combined['Cabin_Fill'].value_counts(normalize=True)*100"
   ]
  },
  {
   "cell_type": "code",
   "execution_count": 753,
   "metadata": {},
   "outputs": [
    {
     "data": {
      "text/plain": [
       "F    0.391138\n",
       "E    0.170359\n",
       "G    0.169595\n",
       "D    0.093201\n",
       "C    0.090909\n",
       "B    0.062643\n",
       "A    0.020626\n",
       "T    0.001528\n",
       "Name: Cabin_Matrix, dtype: float64"
      ]
     },
     "execution_count": 753,
     "metadata": {},
     "output_type": "execute_result"
    }
   ],
   "source": [
    "combined['Cabin_Matrix'].value_counts(normalize=True)*100"
   ]
  },
  {
   "cell_type": "markdown",
   "metadata": {},
   "source": [
    "**Ticket**\n",
    "\n",
    "ways to break up tickets\n",
    "\n",
    "- **if contains string (best result)**\n",
    "\n",
    "- first character\n",
    "\n",
    "- Ticket Prefix"
   ]
  },
  {
   "cell_type": "code",
   "execution_count": 56,
   "metadata": {},
   "outputs": [
    {
     "data": {
      "text/plain": [
       "array(['A/5 21171', 'PC 17599', 'STON/O2. 3101282', '113803', '373450',\n",
       "       '330877', '17463', '349909', '347742', '237736', 'PP 9549',\n",
       "       '113783', 'A/5. 2151', '347082', '350406', '248706', '382652',\n",
       "       '244373', '345763', '2649', '239865', '248698', '330923', '113788',\n",
       "       '347077', '2631', '19950', '330959', '349216', 'PC 17601',\n",
       "       'PC 17569', '335677', 'C.A. 24579', 'PC 17604', '113789', '2677',\n",
       "       'A./5. 2152', '345764', '2651', '7546', '11668', '349253',\n",
       "       'SC/Paris 2123', '330958', 'S.C./A.4. 23567', '370371', '14311',\n",
       "       '2662', '349237', '3101295', 'A/4. 39886', 'PC 17572', '2926',\n",
       "       '113509', '19947', 'C.A. 31026', '2697', 'C.A. 34651', 'CA 2144',\n",
       "       '2669', '113572', '36973', '347088', 'PC 17605', '2661',\n",
       "       'C.A. 29395', 'S.P. 3464', '3101281', '315151', 'C.A. 33111',\n",
       "       'S.O.C. 14879', '2680', '1601', '348123', '349208', '374746',\n",
       "       '248738', '364516', '345767', '345779', '330932', '113059',\n",
       "       'SO/C 14885', '3101278', 'W./C. 6608', 'SOTON/OQ 392086', '343275',\n",
       "       '343276', '347466', 'W.E.P. 5734', 'C.A. 2315', '364500', '374910',\n",
       "       'PC 17754', 'PC 17759', '231919', '244367', '349245', '349215',\n",
       "       '35281', '7540', '3101276', '349207', '343120', '312991', '349249',\n",
       "       '371110', '110465', '2665', '324669', '4136', '2627',\n",
       "       'STON/O 2. 3101294', '370369', 'PC 17558', 'A4. 54510', '27267',\n",
       "       '370372', 'C 17369', '2668', '347061', '349241',\n",
       "       'SOTON/O.Q. 3101307', 'A/5. 3337', '228414', 'C.A. 29178',\n",
       "       'SC/PARIS 2133', '11752', '7534', 'PC 17593', '2678', '347081',\n",
       "       'STON/O2. 3101279', '365222', '231945', 'C.A. 33112', '350043',\n",
       "       '230080', '244310', 'S.O.P. 1166', '113776', 'A.5. 11206',\n",
       "       'A/5. 851', 'Fa 265302', 'PC 17597', '35851', 'SOTON/OQ 392090',\n",
       "       '315037', 'CA. 2343', '371362', 'C.A. 33595', '347068', '315093',\n",
       "       '363291', '113505', 'PC 17318', '111240', 'STON/O 2. 3101280',\n",
       "       '17764', '350404', '4133', 'PC 17595', '250653', 'LINE',\n",
       "       'SC/PARIS 2131', '230136', '315153', '113767', '370365', '111428',\n",
       "       '364849', '349247', '234604', '28424', '350046', 'PC 17610',\n",
       "       '368703', '4579', '370370', '248747', '345770', '3101264', '2628',\n",
       "       'A/5 3540', '347054', '2699', '367231', '112277',\n",
       "       'SOTON/O.Q. 3101311', 'F.C.C. 13528', 'A/5 21174', '250646',\n",
       "       '367229', '35273', 'STON/O2. 3101283', '243847', '11813',\n",
       "       'W/C 14208', 'SOTON/OQ 392089', '220367', '21440', '349234',\n",
       "       '19943', 'PP 4348', 'SW/PP 751', 'A/5 21173', '236171', '347067',\n",
       "       '237442', 'C.A. 29566', 'W./C. 6609', '26707', 'C.A. 31921',\n",
       "       '28665', 'SCO/W 1585', '367230', 'W./C. 14263',\n",
       "       'STON/O 2. 3101275', '2694', '19928', '347071', '250649', '11751',\n",
       "       '244252', '362316', '113514', 'A/5. 3336', '370129', '2650',\n",
       "       'PC 17585', '110152', 'PC 17755', '230433', '384461', '110413',\n",
       "       '112059', '382649', 'C.A. 17248', '347083', 'PC 17582', 'PC 17760',\n",
       "       '113798', '250644', 'PC 17596', '370375', '13502', '347073',\n",
       "       '239853', 'C.A. 2673', '336439', '347464', '345778', 'A/5. 10482',\n",
       "       '113056', '349239', '345774', '349206', '237798', '370373',\n",
       "       '19877', '11967', 'SC/Paris 2163', '349236', '349233', 'PC 17612',\n",
       "       '2693', '113781', '19988', '9234', '367226', '226593', 'A/5 2466',\n",
       "       '17421', 'PC 17758', 'P/PP 3381', 'PC 17485', '11767', 'PC 17608',\n",
       "       '250651', '349243', 'F.C.C. 13529', '347470', '29011', '36928',\n",
       "       '16966', 'A/5 21172', '349219', '234818', '345364', '28551',\n",
       "       '111361', '113043', 'PC 17611', '349225', '7598', '113784',\n",
       "       '248740', '244361', '229236', '248733', '31418', '386525',\n",
       "       'C.A. 37671', '315088', '7267', '113510', '2695', '2647', '345783',\n",
       "       '237671', '330931', '330980', 'SC/PARIS 2167', '2691',\n",
       "       'SOTON/O.Q. 3101310', 'C 7076', '110813', '2626', '14313',\n",
       "       'PC 17477', '11765', '3101267', '323951', 'C 7077', '113503',\n",
       "       '2648', '347069', 'PC 17757', '2653', 'STON/O 2. 3101293',\n",
       "       '349227', '27849', '367655', 'SC 1748', '113760', '350034',\n",
       "       '3101277', '350052', '350407', '28403', '244278', '240929',\n",
       "       'STON/O 2. 3101289', '341826', '4137', '315096', '28664', '347064',\n",
       "       '29106', '312992', '349222', '394140', 'STON/O 2. 3101269',\n",
       "       '343095', '28220', '250652', '28228', '345773', '349254',\n",
       "       'A/5. 13032', '315082', '347080', 'A/4. 34244', '2003', '250655',\n",
       "       '364851', 'SOTON/O.Q. 392078', '110564', '376564', 'SC/AH 3085',\n",
       "       'STON/O 2. 3101274', '13507', 'C.A. 18723', '345769', '347076',\n",
       "       '230434', '65306', '33638', '113794', '2666', '113786', '65303',\n",
       "       '113051', '17453', 'A/5 2817', '349240', '13509', '17464',\n",
       "       'F.C.C. 13531', '371060', '19952', '364506', '111320', '234360',\n",
       "       'A/S 2816', 'SOTON/O.Q. 3101306', '113792', '36209', '323592',\n",
       "       '315089', 'SC/AH Basle 541', '7553', '31027', '3460', '350060',\n",
       "       '3101298', '239854', 'A/5 3594', '4134', '11771', 'A.5. 18509',\n",
       "       '65304', 'SOTON/OQ 3101317', '113787', 'PC 17609', 'A/4 45380',\n",
       "       '36947', 'C.A. 6212', '350035', '315086', '364846', '330909',\n",
       "       '4135', '26360', '111427', 'C 4001', '382651', 'SOTON/OQ 3101316',\n",
       "       'PC 17473', 'PC 17603', '349209', '36967', 'C.A. 34260', '226875',\n",
       "       '349242', '12749', '349252', '2624', '2700', '367232',\n",
       "       'W./C. 14258', 'PC 17483', '3101296', '29104', '2641', '2690',\n",
       "       '315084', '113050', 'PC 17761', '364498', '13568', 'WE/P 5735',\n",
       "       '2908', '693', 'SC/PARIS 2146', '244358', '330979', '2620',\n",
       "       '347085', '113807', '11755', '345572', '372622', '349251',\n",
       "       '218629', 'SOTON/OQ 392082', 'SOTON/O.Q. 392087', 'A/4 48871',\n",
       "       '349205', '2686', '350417', 'S.W./PP 752', '11769', 'PC 17474',\n",
       "       '14312', 'A/4. 20589', '358585', '243880', '2689',\n",
       "       'STON/O 2. 3101286', '237789', '13049', '3411', '237565', '13567',\n",
       "       '14973', 'A./5. 3235', 'STON/O 2. 3101273', 'A/5 3902', '364848',\n",
       "       'SC/AH 29037', '248727', '2664', '349214', '113796', '364511',\n",
       "       '111426', '349910', '349246', '113804', 'SOTON/O.Q. 3101305',\n",
       "       '370377', '364512', '220845', '31028', '2659', '11753', '350029',\n",
       "       '54636', '36963', '219533', '349224', '334912', '27042', '347743',\n",
       "       '13214', '112052', '237668', 'STON/O 2. 3101292', '350050',\n",
       "       '349231', '13213', 'S.O./P.P. 751', 'CA. 2314', '349221', '8475',\n",
       "       '330919', '365226', '349223', '29751', '2623', '5727', '349210',\n",
       "       'STON/O 2. 3101285', '234686', '312993', 'A/5 3536', '19996',\n",
       "       '29750', 'F.C. 12750', 'C.A. 24580', '244270', '239856', '349912',\n",
       "       '342826', '4138', '330935', '6563', '349228', '350036', '24160',\n",
       "       '17474', '349256', '2672', '113800', '248731', '363592', '35852',\n",
       "       '348121', 'PC 17475', '36864', '350025', '223596', 'PC 17476',\n",
       "       'PC 17482', '113028', '7545', '250647', '348124', '34218', '36568',\n",
       "       '347062', '350048', '12233', '250643', '113806', '315094', '36866',\n",
       "       '236853', 'STON/O2. 3101271', '239855', '28425', '233639',\n",
       "       '349201', '349218', '16988', '376566', 'STON/O 2. 3101288',\n",
       "       '250648', '113773', '335097', '29103', '392096', '345780',\n",
       "       '349204', '350042', '29108', '363294', 'SOTON/O2 3101272', '2663',\n",
       "       '347074', '112379', '364850', '8471', '345781', '350047',\n",
       "       'S.O./P.P. 3', '2674', '29105', '347078', '383121', '36865',\n",
       "       '2687', '113501', 'W./C. 6607', 'SOTON/O.Q. 3101312', '374887',\n",
       "       '3101265', '12460', 'PC 17600', '349203', '28213', '17465',\n",
       "       '349244', '2685', '2625', '347089', '347063', '112050', '347087',\n",
       "       '248723', '3474', '28206', '364499', '112058', 'STON/O2. 3101290',\n",
       "       'S.C./PARIS 2079', 'C 7075', '315098', '19972', '368323', '367228',\n",
       "       '2671', '347468', '2223', 'PC 17756', '315097', '392092', '11774',\n",
       "       'SOTON/O2 3101287', '2683', '315090', 'C.A. 5547', '349213',\n",
       "       '347060', 'PC 17592', '392091', '113055', '2629', '350026',\n",
       "       '28134', '17466', '233866', '236852', 'SC/PARIS 2149', 'PC 17590',\n",
       "       '345777', '349248', '695', '345765', '2667', '349212', '349217',\n",
       "       '349257', '7552', 'C.A./SOTON 34068', 'SOTON/OQ 392076', '211536',\n",
       "       '112053', '111369', '370376', '330911', '363272', '240276',\n",
       "       '315154', '7538', '330972', '2657', '349220', '694', '21228',\n",
       "       '24065', '233734', '2692', 'STON/O2. 3101270', '2696', 'C 17368',\n",
       "       'PC 17598', '2698', '113054', 'C.A. 31029', '13236', '2682',\n",
       "       '342712', '315087', '345768', '113778', 'SOTON/O.Q. 3101263',\n",
       "       '237249', 'STON/O 2. 3101291', 'PC 17594', '370374', '13695',\n",
       "       'SC/PARIS 2168', 'SC/A.3 2861', '349230', '348122', '349232',\n",
       "       '237216', '347090', '334914', 'F.C.C. 13534', '330963', '2543',\n",
       "       '382653', '349211', '3101297', 'PC 17562', '359306', '11770',\n",
       "       '248744', '368702', '19924', '349238', '240261', '2660', '330844',\n",
       "       'A/4 31416', '364856', '347072', '345498', '376563', '13905',\n",
       "       '350033', 'STON/O 2. 3101268', '347471', 'A./5. 3338', '11778',\n",
       "       '365235', '347070', '330920', '383162', '3410', '248734', '237734',\n",
       "       '330968', 'PC 17531', '329944', '2681', '13050', '367227',\n",
       "       '392095', '368783', '350045', '211535', '342441',\n",
       "       'STON/OQ. 369943', '113780', '2621', '349226', '350409', '2656',\n",
       "       '248659', 'SOTON/OQ 392083', '17475', 'SC/A4 23568', '113791',\n",
       "       '349255', '3701', '350405', 'S.O./P.P. 752', '347469', '110489',\n",
       "       'SOTON/O.Q. 3101315', '335432', '220844', '343271', '237393',\n",
       "       'PC 17591', '17770', '7548', 'S.O./P.P. 251', '2670', '2673',\n",
       "       '233478', '7935', '239059', 'S.O./P.P. 2', 'A/4 48873', '28221',\n",
       "       '111163', '235509', '347465', '347066', 'C.A. 31030', '65305',\n",
       "       'C.A. 34050', 'F.C. 12998', '9232', '28034', 'PC 17613', '349250',\n",
       "       'SOTON/O.Q. 3101308', '347091', '113038', '330924', '32302',\n",
       "       'SC/PARIS 2148', '342684', 'W./C. 14266', '350053', 'PC 17606',\n",
       "       '350054', '370368', '242963', '113795', '3101266', '330971',\n",
       "       '350416', '2679', '250650', '112377', '3470', 'SOTON/O2 3101284',\n",
       "       '13508', '7266', '345775', 'C.A. 42795', 'AQ/4 3130', '363611',\n",
       "       '28404', '345501', '350410', 'C.A. 34644', '349235', '112051',\n",
       "       'C.A. 49867', 'A. 2. 39186', '315095', '368573', '2676',\n",
       "       'SC 14888', 'CA 31352', 'W./C. 14260', '315085', '364859',\n",
       "       'A/5 21175', 'SOTON/O.Q. 3101314', '2655', 'A/5 1478', 'PC 17607',\n",
       "       '382650', '2652', '345771', '349202', '113801', '347467', '347079',\n",
       "       '237735', '315092', '383123', '112901', '315091', '2658',\n",
       "       'LP 1588', '368364', 'AQ/3. 30631', '28004', '350408', '347075',\n",
       "       '2654', '244368', '113790', 'SOTON/O.Q. 3101309', '236854',\n",
       "       'PC 17580', '2684', '349229', '110469', '244360', '2675', '2622',\n",
       "       'C.A. 15185', '350403', '348125', '237670', '2688', '248726',\n",
       "       'F.C.C. 13540', '113044', '1222', '368402', '315083', '112378',\n",
       "       'SC/PARIS 2147', '28133', '248746', '315152', '29107', '680',\n",
       "       '366713', '330910', 'SC/PARIS 2159', '349911', '244346', '364858',\n",
       "       'C.A. 30769', '371109', '347065', '21332', '17765',\n",
       "       'SC/PARIS 2166', '28666', '334915', '365237', '347086',\n",
       "       'A.5. 3236', 'SOTON/O.Q. 3101262', '359309'], dtype=object)"
      ]
     },
     "execution_count": 56,
     "metadata": {},
     "output_type": "execute_result"
    }
   ],
   "source": [
    "combined.Ticket.unique()"
   ]
  },
  {
   "cell_type": "code",
   "execution_count": 57,
   "metadata": {},
   "outputs": [],
   "source": [
    "def Contains_String(ticket):\n",
    "    contains_string_var = 0\n",
    "    for i in ticket:    \n",
    "        if i.isnumeric() == False:\n",
    "            contains_string_var = 1\n",
    "    return contains_string_var"
   ]
  },
  {
   "cell_type": "code",
   "execution_count": 58,
   "metadata": {},
   "outputs": [],
   "source": [
    "#Contains String? (Not Useful)"
   ]
  },
  {
   "cell_type": "code",
   "execution_count": 59,
   "metadata": {},
   "outputs": [],
   "source": [
    "combined['Ticket_Contains_String'] = combined.Ticket.apply(lambda x: Contains_String(x))"
   ]
  },
  {
   "cell_type": "code",
   "execution_count": 953,
   "metadata": {},
   "outputs": [
    {
     "data": {
      "text/plain": [
       "<matplotlib.axes._subplots.AxesSubplot at 0x7f992585ae10>"
      ]
     },
     "execution_count": 953,
     "metadata": {},
     "output_type": "execute_result"
    },
    {
     "data": {
      "image/png": "[encoded data removed]",
      "text/plain": [
       "<Figure size 432x288 with 1 Axes>"
      ]
     },
     "metadata": {
      "needs_background": "light"
     },
     "output_type": "display_data"
    }
   ],
   "source": [
    "combined.groupby('Ticket_Contains_String')[['Survived','Died']].agg('sum').plot(kind='bar',stacked=True,color=['navy','red'])"
   ]
  },
  {
   "cell_type": "code",
   "execution_count": 954,
   "metadata": {},
   "outputs": [
    {
     "data": {
      "text/plain": [
       "<matplotlib.axes._subplots.AxesSubplot at 0x7f9925b89e50>"
      ]
     },
     "execution_count": 954,
     "metadata": {},
     "output_type": "execute_result"
    },
    {
     "data": {
      "image/png": "[encoded data removed]",
      "text/plain": [
       "<Figure size 432x288 with 1 Axes>"
      ]
     },
     "metadata": {
      "needs_background": "light"
     },
     "output_type": "display_data"
    }
   ],
   "source": [
    "combined.groupby('Ticket_Contains_String')[['Survived','Died']].agg('mean').plot(kind='bar',stacked=True,color=['navy','red'])"
   ]
  },
  {
   "cell_type": "code",
   "execution_count": 62,
   "metadata": {},
   "outputs": [],
   "source": [
    "#Ticket First character (probably useful)\n",
    "combined['Ticket_FirstChar'] = combined.Ticket.str[:1]"
   ]
  },
  {
   "cell_type": "code",
   "execution_count": 63,
   "metadata": {},
   "outputs": [
    {
     "data": {
      "text/plain": [
       "Ticket_FirstChar\n",
       "1    210\n",
       "2    278\n",
       "3    429\n",
       "4     11\n",
       "5      3\n",
       "6      9\n",
       "7     13\n",
       "8      2\n",
       "9      2\n",
       "A     42\n",
       "C     77\n",
       "F     13\n",
       "L      5\n",
       "P     98\n",
       "S     98\n",
       "W     19\n",
       "Name: PassengerId, dtype: int64"
      ]
     },
     "execution_count": 63,
     "metadata": {},
     "output_type": "execute_result"
    }
   ],
   "source": [
    "combined.groupby('Ticket_FirstChar')['PassengerId'].count()"
   ]
  },
  {
   "cell_type": "code",
   "execution_count": 955,
   "metadata": {},
   "outputs": [
    {
     "data": {
      "text/plain": [
       "<matplotlib.axes._subplots.AxesSubplot at 0x7f9925c522d0>"
      ]
     },
     "execution_count": 955,
     "metadata": {},
     "output_type": "execute_result"
    },
    {
     "data": {
      "image/png": "[encoded data removed]",
      "text/plain": [
       "<Figure size 432x288 with 1 Axes>"
      ]
     },
     "metadata": {
      "needs_background": "light"
     },
     "output_type": "display_data"
    }
   ],
   "source": [
    "combined.groupby('Ticket_FirstChar')[['Survived','Died']].agg('sum').plot(kind='bar',stacked=True,color=['navy','red'])"
   ]
  },
  {
   "cell_type": "code",
   "execution_count": 956,
   "metadata": {},
   "outputs": [
    {
     "data": {
      "text/plain": [
       "<matplotlib.axes._subplots.AxesSubplot at 0x7f9925d84550>"
      ]
     },
     "execution_count": 956,
     "metadata": {},
     "output_type": "execute_result"
    },
    {
     "data": {
      "image/png": "[encoded data removed]",
      "text/plain": [
       "<Figure size 432x288 with 1 Axes>"
      ]
     },
     "metadata": {
      "needs_background": "light"
     },
     "output_type": "display_data"
    }
   ],
   "source": [
    "combined.groupby('Ticket_FirstChar')[['Survived','Died']].agg('mean').plot(kind='bar',stacked=True,color=['navy','red'])"
   ]
  },
  {
   "cell_type": "code",
   "execution_count": 296,
   "metadata": {},
   "outputs": [
    {
     "data": {
      "text/plain": [
       "Ticket_FirstChar\n",
       "1    210\n",
       "2    278\n",
       "3    429\n",
       "4     11\n",
       "5      3\n",
       "6      9\n",
       "7     13\n",
       "8      2\n",
       "9      2\n",
       "A     42\n",
       "C     77\n",
       "F     13\n",
       "L      5\n",
       "P     98\n",
       "S     98\n",
       "W     19\n",
       "Name: PassengerId, dtype: int64"
      ]
     },
     "execution_count": 296,
     "metadata": {},
     "output_type": "execute_result"
    }
   ],
   "source": [
    "combined.groupby('Ticket_FirstChar')['PassengerId'].count()"
   ]
  },
  {
   "cell_type": "code",
   "execution_count": 168,
   "metadata": {},
   "outputs": [
    {
     "data": {
      "text/plain": [
       "<matplotlib.axes._subplots.AxesSubplot at 0x7f992d2981d0>"
      ]
     },
     "execution_count": 168,
     "metadata": {},
     "output_type": "execute_result"
    },
    {
     "data": {
      "image/png": "[encoded data removed]",
      "text/plain": [
       "<Figure size 432x288 with 1 Axes>"
      ]
     },
     "metadata": {
      "needs_background": "light"
     },
     "output_type": "display_data"
    }
   ],
   "source": [
    "combined.groupby('Ticket_FirstChar')[['Fare']].agg('mean').plot(kind='bar',stacked=True)"
   ]
  },
  {
   "cell_type": "code",
   "execution_count": 302,
   "metadata": {},
   "outputs": [
    {
     "data": {
      "text/html": [
       "<div>\n",
       "<style scoped>\n",
       "    .dataframe tbody tr th:only-of-type {\n",
       "        vertical-align: middle;\n",
       "    }\n",
       "\n",
       "    .dataframe tbody tr th {\n",
       "        vertical-align: top;\n",
       "    }\n",
       "\n",
       "    .dataframe thead th {\n",
       "        text-align: right;\n",
       "    }\n",
       "</style>\n",
       "<table border=\"1\" class=\"dataframe\">\n",
       "  <thead>\n",
       "    <tr style=\"text-align: right;\">\n",
       "      <th>Ticket_FirstChar</th>\n",
       "      <th>1</th>\n",
       "      <th>2</th>\n",
       "      <th>3</th>\n",
       "      <th>4</th>\n",
       "      <th>5</th>\n",
       "      <th>6</th>\n",
       "      <th>7</th>\n",
       "      <th>8</th>\n",
       "      <th>9</th>\n",
       "      <th>A</th>\n",
       "      <th>C</th>\n",
       "      <th>F</th>\n",
       "      <th>L</th>\n",
       "      <th>P</th>\n",
       "      <th>S</th>\n",
       "      <th>W</th>\n",
       "    </tr>\n",
       "    <tr>\n",
       "      <th>Pclass</th>\n",
       "      <th></th>\n",
       "      <th></th>\n",
       "      <th></th>\n",
       "      <th></th>\n",
       "      <th></th>\n",
       "      <th></th>\n",
       "      <th></th>\n",
       "      <th></th>\n",
       "      <th></th>\n",
       "      <th></th>\n",
       "      <th></th>\n",
       "      <th></th>\n",
       "      <th></th>\n",
       "      <th></th>\n",
       "      <th></th>\n",
       "      <th></th>\n",
       "    </tr>\n",
       "  </thead>\n",
       "  <tbody>\n",
       "    <tr>\n",
       "      <th>1</th>\n",
       "      <td>193.0</td>\n",
       "      <td>8.0</td>\n",
       "      <td>18.0</td>\n",
       "      <td>NaN</td>\n",
       "      <td>1.0</td>\n",
       "      <td>4.0</td>\n",
       "      <td>NaN</td>\n",
       "      <td>NaN</td>\n",
       "      <td>NaN</td>\n",
       "      <td>NaN</td>\n",
       "      <td>NaN</td>\n",
       "      <td>3.0</td>\n",
       "      <td>NaN</td>\n",
       "      <td>92.0</td>\n",
       "      <td>NaN</td>\n",
       "      <td>4.0</td>\n",
       "    </tr>\n",
       "    <tr>\n",
       "      <th>2</th>\n",
       "      <td>3.0</td>\n",
       "      <td>176.0</td>\n",
       "      <td>5.0</td>\n",
       "      <td>NaN</td>\n",
       "      <td>NaN</td>\n",
       "      <td>NaN</td>\n",
       "      <td>NaN</td>\n",
       "      <td>NaN</td>\n",
       "      <td>NaN</td>\n",
       "      <td>NaN</td>\n",
       "      <td>34.0</td>\n",
       "      <td>9.0</td>\n",
       "      <td>NaN</td>\n",
       "      <td>2.0</td>\n",
       "      <td>43.0</td>\n",
       "      <td>5.0</td>\n",
       "    </tr>\n",
       "    <tr>\n",
       "      <th>3</th>\n",
       "      <td>14.0</td>\n",
       "      <td>94.0</td>\n",
       "      <td>406.0</td>\n",
       "      <td>11.0</td>\n",
       "      <td>2.0</td>\n",
       "      <td>5.0</td>\n",
       "      <td>13.0</td>\n",
       "      <td>2.0</td>\n",
       "      <td>2.0</td>\n",
       "      <td>42.0</td>\n",
       "      <td>43.0</td>\n",
       "      <td>1.0</td>\n",
       "      <td>5.0</td>\n",
       "      <td>4.0</td>\n",
       "      <td>55.0</td>\n",
       "      <td>10.0</td>\n",
       "    </tr>\n",
       "  </tbody>\n",
       "</table>\n",
       "</div>"
      ],
      "text/plain": [
       "Ticket_FirstChar      1      2      3     4    5    6     7    8    9     A  \\\n",
       "Pclass                                                                        \n",
       "1                 193.0    8.0   18.0   NaN  1.0  4.0   NaN  NaN  NaN   NaN   \n",
       "2                   3.0  176.0    5.0   NaN  NaN  NaN   NaN  NaN  NaN   NaN   \n",
       "3                  14.0   94.0  406.0  11.0  2.0  5.0  13.0  2.0  2.0  42.0   \n",
       "\n",
       "Ticket_FirstChar     C    F    L     P     S     W  \n",
       "Pclass                                              \n",
       "1                  NaN  3.0  NaN  92.0   NaN   4.0  \n",
       "2                 34.0  9.0  NaN   2.0  43.0   5.0  \n",
       "3                 43.0  1.0  5.0   4.0  55.0  10.0  "
      ]
     },
     "execution_count": 302,
     "metadata": {},
     "output_type": "execute_result"
    }
   ],
   "source": [
    "pd.pivot_table(combined, index = 'Pclass',columns = 'Ticket_FirstChar',values = 'Ticket', aggfunc='count')"
   ]
  },
  {
   "cell_type": "code",
   "execution_count": 305,
   "metadata": {},
   "outputs": [
    {
     "data": {
      "text/plain": [
       "Ticket_FirstChar_Group\n",
       "1    210\n",
       "2    278\n",
       "3    516\n",
       "4    175\n",
       "5     13\n",
       "6     19\n",
       "7     98\n",
       "Name: PassengerId, dtype: int64"
      ]
     },
     "execution_count": 305,
     "metadata": {},
     "output_type": "execute_result"
    }
   ],
   "source": [
    "combined['Ticket_FirstChar_Group'] = combined.Ticket_FirstChar.copy()\n",
    "combined['Ticket_FirstChar_Group'] = combined['Ticket_FirstChar_Group'].replace(['3','4','5','6','7','8','9','A','L'],'3')\n",
    "combined['Ticket_FirstChar_Group'] = combined['Ticket_FirstChar_Group'].replace(['C','S'],'4')\n",
    "combined['Ticket_FirstChar_Group'] = combined['Ticket_FirstChar_Group'].replace(['F'],'5')\n",
    "combined['Ticket_FirstChar_Group'] = combined['Ticket_FirstChar_Group'].replace(['W'],'6')\n",
    "combined['Ticket_FirstChar_Group'] = combined['Ticket_FirstChar_Group'].replace(['P'],'7')\n",
    "combined.groupby('Ticket_FirstChar_Group')['PassengerId'].count()"
   ]
  },
  {
   "cell_type": "code",
   "execution_count": 571,
   "metadata": {},
   "outputs": [
    {
     "data": {
      "text/plain": [
       "36"
      ]
     },
     "execution_count": 571,
     "metadata": {},
     "output_type": "execute_result"
    }
   ],
   "source": [
    "combined['Ticket_Pre'] = combined.Ticket.apply(lambda x: 'Numeric' if x.isnumeric() == True else x.split()[0].replace('.','').replace('/','').upper())\n",
    "combined['Ticket_Pre'].nunique()"
   ]
  },
  {
   "cell_type": "code",
   "execution_count": 572,
   "metadata": {},
   "outputs": [
    {
     "data": {
      "text/plain": [
       "Ticket_Pre\n",
       "A            1\n",
       "A4          10\n",
       "A5          28\n",
       "AQ3          1\n",
       "AQ4          1\n",
       "AS           1\n",
       "C            8\n",
       "CA          68\n",
       "CASOTON      1\n",
       "FA           1\n",
       "FC           3\n",
       "FCC          9\n",
       "LINE         4\n",
       "LP           1\n",
       "Numeric    957\n",
       "PC          92\n",
       "PP           4\n",
       "PPP          2\n",
       "SC           2\n",
       "SCA3         1\n",
       "SCA4         2\n",
       "SCAH         5\n",
       "SCOW         1\n",
       "SCPARIS     19\n",
       "SOC          8\n",
       "SOP          1\n",
       "SOPP         7\n",
       "SOTONO2      3\n",
       "SOTONOQ     24\n",
       "SP           1\n",
       "STONO       14\n",
       "STONO2       7\n",
       "STONOQ       1\n",
       "SWPP         2\n",
       "WC          15\n",
       "WEP          4\n",
       "Name: PassengerId, dtype: int64"
      ]
     },
     "execution_count": 572,
     "metadata": {},
     "output_type": "execute_result"
    }
   ],
   "source": [
    "combined.groupby('Ticket_Pre')['PassengerId'].count()"
   ]
  },
  {
   "cell_type": "code",
   "execution_count": null,
   "metadata": {},
   "outputs": [],
   "source": []
  },
  {
   "cell_type": "code",
   "execution_count": null,
   "metadata": {},
   "outputs": [],
   "source": []
  },
  {
   "cell_type": "code",
   "execution_count": null,
   "metadata": {},
   "outputs": [],
   "source": []
  },
  {
   "cell_type": "markdown",
   "metadata": {},
   "source": [
    "# Data Preprocessing\n",
    "\n",
    "Create Dummy Variables for: 'Age2', 'Fare', 'Pclass', 'Sex', 'SibSp', 'Parch', 'Embarked', 'Ticket_Contains_String', 'Name_Pre_Group', 'Cabin_letter', 'Train\n",
    "\n",
    "Create the following Train datasets to run in our models and compare performance:\n",
    "\n",
    "1. dataset as is\n",
    "2. dataset with reduced features\n",
    "3. dataset with scaled features\n",
    "4. dataset with reduced and scaled features"
   ]
  },
  {
   "cell_type": "code",
   "execution_count": 820,
   "metadata": {},
   "outputs": [],
   "source": [
    "combined.Pclass = combined.Pclass.astype(str)\n",
    "#combined.Cabin_Multiple = combined.Cabin_Multiple.astype(str)\n",
    "\n",
    "dummy_variables = pd.get_dummies(combined[['Age2','Fare','Pclass','Sex','SibSp','Parch','Embarked','Ticket_Contains_String','Name_Pre_Group','Cabin_letter','Train']])"
   ]
  },
  {
   "cell_type": "code",
   "execution_count": 821,
   "metadata": {},
   "outputs": [],
   "source": [
    "x_train = pd.DataFrame(dummy_variables[dummy_variables.Train == 1].drop(['Train'],axis=1))\n",
    "x_test = pd.DataFrame(dummy_variables[dummy_variables.Train == 0].drop(['Train'],axis=1))\n",
    "\n",
    "y_train = combined[combined.Train == 1].Survived"
   ]
  },
  {
   "cell_type": "code",
   "execution_count": 822,
   "metadata": {},
   "outputs": [
    {
     "data": {
      "text/plain": [
       "Index(['Age2', 'Fare', 'SibSp', 'Parch', 'Ticket_Contains_String', 'Train',\n",
       "       'Pclass_1', 'Pclass_2', 'Pclass_3', 'Sex_female', 'Sex_male',\n",
       "       'Embarked_C', 'Embarked_Q', 'Embarked_S', 'Name_Pre_Group_Elite',\n",
       "       'Name_Pre_Group_Employee', 'Name_Pre_Group_Master', 'Name_Pre_Group_Mr',\n",
       "       'Name_Pre_Group_Mrs', 'Name_Pre_Group_Ms', 'Cabin_letter_A',\n",
       "       'Cabin_letter_B', 'Cabin_letter_C', 'Cabin_letter_D', 'Cabin_letter_E',\n",
       "       'Cabin_letter_F', 'Cabin_letter_G', 'Cabin_letter_N', 'Cabin_letter_T'],\n",
       "      dtype='object')"
      ]
     },
     "execution_count": 822,
     "metadata": {},
     "output_type": "execute_result"
    }
   ],
   "source": [
    "dummy_variables.columns"
   ]
  },
  {
   "cell_type": "markdown",
   "metadata": {},
   "source": [
    "**Create another DF with Reduced Features to see if performs better**"
   ]
  },
  {
   "cell_type": "code",
   "execution_count": 823,
   "metadata": {},
   "outputs": [
    {
     "data": {
      "text/plain": [
       "<matplotlib.axes._subplots.AxesSubplot at 0x7f9920c54ad0>"
      ]
     },
     "execution_count": 823,
     "metadata": {},
     "output_type": "execute_result"
    },
    {
     "data": {
      "image/png": "[encoded data removed]",
      "text/plain": [
       "<Figure size 1800x1800 with 1 Axes>"
      ]
     },
     "metadata": {
      "needs_background": "light"
     },
     "output_type": "display_data"
    }
   ],
   "source": [
    "clf = RandomForestClassifier(n_estimators=50, max_features='sqrt')\n",
    "clf = clf.fit(x_train, targets)\n",
    "\n",
    "features = pd.DataFrame()\n",
    "features['feature'] = x_train.columns\n",
    "features['importance'] = clf.feature_importances_\n",
    "features.sort_values(by=['importance'], ascending=True, inplace=True)\n",
    "features.set_index('feature', inplace=True)\n",
    "\n",
    "features.plot(kind='barh', figsize=(25, 25))\n",
    "\n",
    "#More Accurate when removed age2 and fare"
   ]
  },
  {
   "cell_type": "code",
   "execution_count": 824,
   "metadata": {},
   "outputs": [
    {
     "name": "stdout",
     "output_type": "stream",
     "text": [
      "(891, 7)\n",
      "(891, 7)\n"
     ]
    }
   ],
   "source": [
    "model = SelectFromModel(clf, prefit=True)\n",
    "x_train_reduced = model.transform(x_train)\n",
    "x_test_reduced = model.transform(x_test)\n",
    "print(x_train_reduced.shape)\n",
    "print(x_train_reduced.shape)"
   ]
  },
  {
   "cell_type": "code",
   "execution_count": 825,
   "metadata": {},
   "outputs": [
    {
     "data": {
      "text/plain": [
       "Index(['Age2', 'Fare', 'SibSp', 'Pclass_3', 'Sex_female', 'Sex_male',\n",
       "       'Name_Pre_Group_Mr'],\n",
       "      dtype='object')"
      ]
     },
     "execution_count": 825,
     "metadata": {},
     "output_type": "execute_result"
    }
   ],
   "source": [
    "feature_idx = model.get_support()\n",
    "feature_name = x_train.columns[feature_idx]\n",
    "feature_name"
   ]
  },
  {
   "cell_type": "markdown",
   "metadata": {},
   "source": [
    "**Scale Data to see if it performs better this way**"
   ]
  },
  {
   "cell_type": "code",
   "execution_count": 826,
   "metadata": {},
   "outputs": [],
   "source": [
    "from sklearn.preprocessing import StandardScaler"
   ]
  },
  {
   "cell_type": "code",
   "execution_count": 827,
   "metadata": {},
   "outputs": [
    {
     "data": {
      "text/html": [
       "<div>\n",
       "<style scoped>\n",
       "    .dataframe tbody tr th:only-of-type {\n",
       "        vertical-align: middle;\n",
       "    }\n",
       "\n",
       "    .dataframe tbody tr th {\n",
       "        vertical-align: top;\n",
       "    }\n",
       "\n",
       "    .dataframe thead th {\n",
       "        text-align: right;\n",
       "    }\n",
       "</style>\n",
       "<table border=\"1\" class=\"dataframe\">\n",
       "  <thead>\n",
       "    <tr style=\"text-align: right;\">\n",
       "      <th></th>\n",
       "      <th>Age2</th>\n",
       "      <th>Fare</th>\n",
       "      <th>SibSp</th>\n",
       "      <th>Parch</th>\n",
       "      <th>Ticket_Contains_String</th>\n",
       "      <th>Train</th>\n",
       "      <th>Pclass_1</th>\n",
       "      <th>Pclass_2</th>\n",
       "      <th>Pclass_3</th>\n",
       "      <th>Sex_female</th>\n",
       "      <th>...</th>\n",
       "      <th>Name_Pre_Group_Ms</th>\n",
       "      <th>Cabin_letter_A</th>\n",
       "      <th>Cabin_letter_B</th>\n",
       "      <th>Cabin_letter_C</th>\n",
       "      <th>Cabin_letter_D</th>\n",
       "      <th>Cabin_letter_E</th>\n",
       "      <th>Cabin_letter_F</th>\n",
       "      <th>Cabin_letter_G</th>\n",
       "      <th>Cabin_letter_N</th>\n",
       "      <th>Cabin_letter_T</th>\n",
       "    </tr>\n",
       "  </thead>\n",
       "  <tbody>\n",
       "    <tr>\n",
       "      <th>0</th>\n",
       "      <td>-0.541304</td>\n",
       "      <td>-0.503271</td>\n",
       "      <td>0.481288</td>\n",
       "      <td>-0.445</td>\n",
       "      <td>1</td>\n",
       "      <td>1</td>\n",
       "      <td>0</td>\n",
       "      <td>0</td>\n",
       "      <td>1</td>\n",
       "      <td>0</td>\n",
       "      <td>...</td>\n",
       "      <td>0</td>\n",
       "      <td>0</td>\n",
       "      <td>0</td>\n",
       "      <td>0</td>\n",
       "      <td>0</td>\n",
       "      <td>0</td>\n",
       "      <td>0</td>\n",
       "      <td>0</td>\n",
       "      <td>1</td>\n",
       "      <td>0</td>\n",
       "    </tr>\n",
       "    <tr>\n",
       "      <th>1</th>\n",
       "      <td>0.649356</td>\n",
       "      <td>0.734756</td>\n",
       "      <td>0.481288</td>\n",
       "      <td>-0.445</td>\n",
       "      <td>1</td>\n",
       "      <td>1</td>\n",
       "      <td>1</td>\n",
       "      <td>0</td>\n",
       "      <td>0</td>\n",
       "      <td>1</td>\n",
       "      <td>...</td>\n",
       "      <td>0</td>\n",
       "      <td>0</td>\n",
       "      <td>0</td>\n",
       "      <td>1</td>\n",
       "      <td>0</td>\n",
       "      <td>0</td>\n",
       "      <td>0</td>\n",
       "      <td>0</td>\n",
       "      <td>0</td>\n",
       "      <td>0</td>\n",
       "    </tr>\n",
       "    <tr>\n",
       "      <th>2</th>\n",
       "      <td>-0.243639</td>\n",
       "      <td>-0.490220</td>\n",
       "      <td>-0.479087</td>\n",
       "      <td>-0.445</td>\n",
       "      <td>1</td>\n",
       "      <td>1</td>\n",
       "      <td>0</td>\n",
       "      <td>0</td>\n",
       "      <td>1</td>\n",
       "      <td>1</td>\n",
       "      <td>...</td>\n",
       "      <td>1</td>\n",
       "      <td>0</td>\n",
       "      <td>0</td>\n",
       "      <td>0</td>\n",
       "      <td>0</td>\n",
       "      <td>0</td>\n",
       "      <td>0</td>\n",
       "      <td>0</td>\n",
       "      <td>1</td>\n",
       "      <td>0</td>\n",
       "    </tr>\n",
       "    <tr>\n",
       "      <th>3</th>\n",
       "      <td>0.426107</td>\n",
       "      <td>0.383198</td>\n",
       "      <td>0.481288</td>\n",
       "      <td>-0.445</td>\n",
       "      <td>0</td>\n",
       "      <td>1</td>\n",
       "      <td>1</td>\n",
       "      <td>0</td>\n",
       "      <td>0</td>\n",
       "      <td>1</td>\n",
       "      <td>...</td>\n",
       "      <td>0</td>\n",
       "      <td>0</td>\n",
       "      <td>0</td>\n",
       "      <td>1</td>\n",
       "      <td>0</td>\n",
       "      <td>0</td>\n",
       "      <td>0</td>\n",
       "      <td>0</td>\n",
       "      <td>0</td>\n",
       "      <td>0</td>\n",
       "    </tr>\n",
       "    <tr>\n",
       "      <th>4</th>\n",
       "      <td>0.426107</td>\n",
       "      <td>-0.487804</td>\n",
       "      <td>-0.479087</td>\n",
       "      <td>-0.445</td>\n",
       "      <td>0</td>\n",
       "      <td>1</td>\n",
       "      <td>0</td>\n",
       "      <td>0</td>\n",
       "      <td>1</td>\n",
       "      <td>0</td>\n",
       "      <td>...</td>\n",
       "      <td>0</td>\n",
       "      <td>0</td>\n",
       "      <td>0</td>\n",
       "      <td>0</td>\n",
       "      <td>0</td>\n",
       "      <td>0</td>\n",
       "      <td>0</td>\n",
       "      <td>0</td>\n",
       "      <td>1</td>\n",
       "      <td>0</td>\n",
       "    </tr>\n",
       "  </tbody>\n",
       "</table>\n",
       "<p>5 rows × 29 columns</p>\n",
       "</div>"
      ],
      "text/plain": [
       "       Age2      Fare     SibSp  Parch  Ticket_Contains_String  Train  \\\n",
       "0 -0.541304 -0.503271  0.481288 -0.445                       1      1   \n",
       "1  0.649356  0.734756  0.481288 -0.445                       1      1   \n",
       "2 -0.243639 -0.490220 -0.479087 -0.445                       1      1   \n",
       "3  0.426107  0.383198  0.481288 -0.445                       0      1   \n",
       "4  0.426107 -0.487804 -0.479087 -0.445                       0      1   \n",
       "\n",
       "   Pclass_1  Pclass_2  Pclass_3  Sex_female  ...  Name_Pre_Group_Ms  \\\n",
       "0         0         0         1           0  ...                  0   \n",
       "1         1         0         0           1  ...                  0   \n",
       "2         0         0         1           1  ...                  1   \n",
       "3         1         0         0           1  ...                  0   \n",
       "4         0         0         1           0  ...                  0   \n",
       "\n",
       "   Cabin_letter_A  Cabin_letter_B  Cabin_letter_C  Cabin_letter_D  \\\n",
       "0               0               0               0               0   \n",
       "1               0               0               1               0   \n",
       "2               0               0               0               0   \n",
       "3               0               0               1               0   \n",
       "4               0               0               0               0   \n",
       "\n",
       "   Cabin_letter_E  Cabin_letter_F  Cabin_letter_G  Cabin_letter_N  \\\n",
       "0               0               0               0               1   \n",
       "1               0               0               0               0   \n",
       "2               0               0               0               1   \n",
       "3               0               0               0               0   \n",
       "4               0               0               0               1   \n",
       "\n",
       "   Cabin_letter_T  \n",
       "0               0  \n",
       "1               0  \n",
       "2               0  \n",
       "3               0  \n",
       "4               0  \n",
       "\n",
       "[5 rows x 29 columns]"
      ]
     },
     "execution_count": 827,
     "metadata": {},
     "output_type": "execute_result"
    }
   ],
   "source": [
    "scale = StandardScaler()\n",
    "dummy_variables_scaled = dummy_variables.copy()\n",
    "#variables to Scale: Age2, Fare, SibSp, Parch\n",
    "dummy_variables_scaled[['Age2','SibSp','Parch','Fare']] = scale.fit_transform(dummy_variables_scaled[['Age2','SibSp','Parch','Fare']])\n",
    "dummy_variables_scaled.head()"
   ]
  },
  {
   "cell_type": "code",
   "execution_count": 828,
   "metadata": {},
   "outputs": [],
   "source": [
    "x_train_scaled = pd.DataFrame(dummy_variables_scaled[dummy_variables_scaled.Train == 1].drop(['Train'],axis=1))\n",
    "x_test_scaled = pd.DataFrame(dummy_variables_scaled[dummy_variables_scaled.Train == 0].drop(['Train'],axis=1))"
   ]
  },
  {
   "cell_type": "markdown",
   "metadata": {},
   "source": [
    "**Reduce Scaled Features to see if performance increases**"
   ]
  },
  {
   "cell_type": "code",
   "execution_count": 829,
   "metadata": {},
   "outputs": [
    {
     "data": {
      "text/plain": [
       "<matplotlib.axes._subplots.AxesSubplot at 0x7f9920cf9390>"
      ]
     },
     "execution_count": 829,
     "metadata": {},
     "output_type": "execute_result"
    },
    {
     "data": {
      "image/png": "[encoded data removed]",
      "text/plain": [
       "<Figure size 1800x1800 with 1 Axes>"
      ]
     },
     "metadata": {
      "needs_background": "light"
     },
     "output_type": "display_data"
    }
   ],
   "source": [
    "clf = RandomForestClassifier(n_estimators=50, max_features='sqrt')\n",
    "clf = clf.fit(x_train_scaled, targets)\n",
    "\n",
    "features_scaled = pd.DataFrame()\n",
    "features_scaled['feature'] = x_train_scaled.columns\n",
    "features_scaled['importance'] = clf.feature_importances_\n",
    "features_scaled.sort_values(by=['importance'], ascending=True, inplace=True)\n",
    "features_scaled.set_index('feature', inplace=True)\n",
    "\n",
    "features.plot(kind='barh', figsize=(25, 25))\n",
    "\n",
    "#More Accurate when removed age2 and fare"
   ]
  },
  {
   "cell_type": "code",
   "execution_count": 830,
   "metadata": {},
   "outputs": [
    {
     "name": "stdout",
     "output_type": "stream",
     "text": [
      "(891, 7)\n",
      "(418, 7)\n"
     ]
    }
   ],
   "source": [
    "model = SelectFromModel(clf, prefit=True)\n",
    "x_train_scaled_reduced = model.transform(x_train_scaled)\n",
    "x_test_scaled_reduced = model.transform(x_test_scaled)\n",
    "print(x_train_scaled_reduced.shape)\n",
    "print(x_test_scaled_reduced.shape)"
   ]
  },
  {
   "cell_type": "code",
   "execution_count": 831,
   "metadata": {},
   "outputs": [
    {
     "data": {
      "text/plain": [
       "Index(['Age2', 'Fare', 'SibSp', 'Pclass_3', 'Sex_female', 'Sex_male',\n",
       "       'Name_Pre_Group_Mr'],\n",
       "      dtype='object')"
      ]
     },
     "execution_count": 831,
     "metadata": {},
     "output_type": "execute_result"
    }
   ],
   "source": [
    "feature_idx = model.get_support()\n",
    "feature_name = x_train_scaled.columns[feature_idx]\n",
    "feature_name"
   ]
  },
  {
   "cell_type": "code",
   "execution_count": null,
   "metadata": {},
   "outputs": [],
   "source": []
  },
  {
   "cell_type": "markdown",
   "metadata": {},
   "source": [
    "# Modeling"
   ]
  },
  {
   "cell_type": "code",
   "execution_count": 718,
   "metadata": {},
   "outputs": [],
   "source": [
    "from sklearn.pipeline import make_pipeline\n",
    "from sklearn.ensemble import RandomForestClassifier\n",
    "from sklearn.ensemble.gradient_boosting import GradientBoostingClassifier\n",
    "from sklearn.naive_bayes import GaussianNB\n",
    "from sklearn.neighbors import KNeighborsClassifier\n",
    "from sklearn.feature_selection import SelectKBest\n",
    "from sklearn.svm import SVC\n",
    "from sklearn.model_selection import StratifiedKFold\n",
    "from sklearn.model_selection import GridSearchCV\n",
    "from sklearn.model_selection import cross_val_score\n",
    "from sklearn.feature_selection import SelectFromModel\n",
    "from sklearn.linear_model import LogisticRegression, LogisticRegressionCV"
   ]
  },
  {
   "cell_type": "code",
   "execution_count": 719,
   "metadata": {},
   "outputs": [],
   "source": [
    "def compute_score(clf, X, y, scoring='accuracy'):\n",
    "    xval = cross_val_score(clf, X, y, cv = 5, scoring=scoring)\n",
    "    return np.mean(xval)"
   ]
  },
  {
   "cell_type": "code",
   "execution_count": 720,
   "metadata": {},
   "outputs": [],
   "source": [
    "training_data_formats = [x_train,        x_train_reduced,    x_train_scaled,  x_train_scaled_reduced]\n",
    "training_data_type = ['Regular Features','Reduced Features','Scaled Features','Reduaced and Scaled Features']"
   ]
  },
  {
   "cell_type": "markdown",
   "metadata": {},
   "source": [
    "**Common ML Models that I used:**\n",
    "\n",
    "- Random Forest\n",
    "- Logistic Regression\n",
    "- Gradient Boost\n",
    "- Naive Bayes\n",
    "- Knearest Neighbor\n",
    "- Linear SCV\n",
    "- Soft Voting Classifier\n",
    "- Hard Voting Classifier\n",
    "\n",
    "I wanted to use either a hard voting or soft voting classifier that contained the top performing model of the 4 following categories:\n",
    "1. Linear (Logistic Regression, Naive Bayes)\n",
    "2. Decision Tree (Random Forest, XGBoost Classifier)\n",
    "3. Kernel estimation (K Nearest Neighbor)\n",
    "4. Support Vector Machines (Linear SCV)"
   ]
  },
  {
   "cell_type": "markdown",
   "metadata": {},
   "source": [
    "**Random Forest Classifier**"
   ]
  },
  {
   "cell_type": "code",
   "execution_count": 832,
   "metadata": {},
   "outputs": [
    {
     "name": "stdout",
     "output_type": "stream",
     "text": [
      "Regular Features:  80.4695248258113\n",
      "Reduced Features:  80.0238528654824\n",
      "Scaled Features:  80.5818843763731\n",
      "Reduaced and Scaled Features:  79.79913376435881\n"
     ]
    }
   ],
   "source": [
    "rf = RandomForestClassifier(random_state = 1)\n",
    "tdt_index = 0\n",
    "\n",
    "for i in training_data_formats:\n",
    "    score = cross_val_score(rf,i,y_train,cv=5)\n",
    "    print(training_data_type[tdt_index]+': ', score.mean()*100)\n",
    "    tdt_index+=1"
   ]
  },
  {
   "cell_type": "markdown",
   "metadata": {},
   "source": [
    "**Logistic Regression Model**"
   ]
  },
  {
   "cell_type": "code",
   "execution_count": 833,
   "metadata": {},
   "outputs": [
    {
     "name": "stdout",
     "output_type": "stream",
     "text": [
      "Regular Features:  83.27663046889711\n",
      "Reduced Features:  79.79599522942691\n",
      "Scaled Features:  83.1648986253217\n",
      "Reduaced and Scaled Features:  79.9083547799887\n"
     ]
    }
   ],
   "source": [
    "lr = LogisticRegression(max_iter = 2000)\n",
    "tdt_index = 0\n",
    "\n",
    "for i in training_data_formats:\n",
    "    score = cross_val_score(lr,i,y_train,cv=5)\n",
    "    print(training_data_type[tdt_index]+': ', score.mean()*100)\n",
    "    tdt_index+=1"
   ]
  },
  {
   "cell_type": "markdown",
   "metadata": {},
   "source": [
    "**GradientBoosting Classifier**"
   ]
  },
  {
   "cell_type": "code",
   "execution_count": 834,
   "metadata": {},
   "outputs": [
    {
     "name": "stdout",
     "output_type": "stream",
     "text": [
      "Regular Features:  82.26727763480007\n",
      "Reduced Features:  82.04193082669009\n",
      "Scaled Features:  82.26727763480007\n",
      "Reduaced and Scaled Features:  82.04193082669009\n"
     ]
    }
   ],
   "source": [
    "gboost = GradientBoostingClassifier()\n",
    "tdt_index = 0\n",
    "\n",
    "for i in training_data_formats:\n",
    "    score = cross_val_score(gboost,i,y_train,cv=5)\n",
    "    print(training_data_type[tdt_index]+': ', score.mean()*100)\n",
    "    tdt_index+=1"
   ]
  },
  {
   "cell_type": "markdown",
   "metadata": {},
   "source": [
    "**XGBoost Classifier**"
   ]
  },
  {
   "cell_type": "code",
   "execution_count": 835,
   "metadata": {},
   "outputs": [
    {
     "name": "stdout",
     "output_type": "stream",
     "text": [
      "Regular Features:  81.5956311593748\n",
      "Reduced Features:  79.90898248697506\n",
      "Scaled Features:  81.70736300295023\n",
      "Reduaced and Scaled Features:  80.02134203753688\n"
     ]
    }
   ],
   "source": [
    "from xgboost import XGBClassifier\n",
    "\n",
    "xgb = XGBClassifier(random_state = 1)\n",
    "tdt_index = 0\n",
    "\n",
    "for i in training_data_formats:\n",
    "    score = cross_val_score(xgb,i,y_train,cv=5)\n",
    "    print(training_data_type[tdt_index]+': ', score.mean()*100)\n",
    "    tdt_index+=1"
   ]
  },
  {
   "cell_type": "markdown",
   "metadata": {},
   "source": [
    "**Gaussian Naive Bayes**"
   ]
  },
  {
   "cell_type": "code",
   "execution_count": 836,
   "metadata": {},
   "outputs": [
    {
     "name": "stdout",
     "output_type": "stream",
     "text": [
      "Regular Features:  78.11562362689098\n",
      "Reduced Features:  79.01198920343984\n",
      "Scaled Features:  76.09754566568327\n",
      "Reduaced and Scaled Features:  79.01198920343984\n"
     ]
    }
   ],
   "source": [
    "gnb = GaussianNB()\n",
    "tdt_index = 0\n",
    "\n",
    "for i in training_data_formats:\n",
    "    score = cross_val_score(gnb,i,y_train,cv=5)\n",
    "    print(training_data_type[tdt_index]+': ', score.mean()*100)\n",
    "    tdt_index+=1"
   ]
  },
  {
   "cell_type": "markdown",
   "metadata": {},
   "source": [
    "**KNeighbords Classifier**"
   ]
  },
  {
   "cell_type": "code",
   "execution_count": 837,
   "metadata": {},
   "outputs": [
    {
     "name": "stdout",
     "output_type": "stream",
     "text": [
      "Regular Features:  70.48710062142992\n",
      "Reduced Features:  71.0488983742389\n",
      "Scaled Features:  81.48013307388112\n",
      "Reduaced and Scaled Features:  80.69738246186681\n"
     ]
    }
   ],
   "source": [
    "knn = KNeighborsClassifier()\n",
    "tdt_index = 0\n",
    "\n",
    "for i in training_data_formats:\n",
    "    score = cross_val_score(knn,i,y_train,cv=5)\n",
    "    print(training_data_type[tdt_index]+': ', score.mean()*100)\n",
    "    tdt_index+=1"
   ]
  },
  {
   "cell_type": "markdown",
   "metadata": {},
   "source": [
    "**LinearSVC**"
   ]
  },
  {
   "cell_type": "code",
   "execution_count": 838,
   "metadata": {},
   "outputs": [
    {
     "name": "stdout",
     "output_type": "stream",
     "text": [
      "Regular Features:  67.57328479065971\n",
      "Reduced Features:  67.34982110350887\n",
      "Scaled Features:  83.49946644906157\n",
      "Reduaced and Scaled Features:  83.05065595380077\n"
     ]
    }
   ],
   "source": [
    "svc = SVC(probability = True)\n",
    "tdt_index = 0\n",
    "\n",
    "for i in training_data_formats:\n",
    "    score = cross_val_score(svc,i,y_train,cv=5)\n",
    "    print(training_data_type[tdt_index]+': ', score.mean()*100)\n",
    "    tdt_index+=1"
   ]
  },
  {
   "cell_type": "markdown",
   "metadata": {},
   "source": [
    "**Voting Classifier**"
   ]
  },
  {
   "cell_type": "code",
   "execution_count": 327,
   "metadata": {},
   "outputs": [],
   "source": [
    "from sklearn.ensemble import VotingClassifier"
   ]
  },
  {
   "cell_type": "markdown",
   "metadata": {},
   "source": [
    "soft"
   ]
  },
  {
   "cell_type": "code",
   "execution_count": 839,
   "metadata": {},
   "outputs": [],
   "source": [
    "voting_clf_soft = VotingClassifier(estimators = [('lr', lr),('rf', rf),('gboost', gboost),\n",
    "                                            ('gnb', gnb),('knn', knn),('svc', svc)],\n",
    "                                             voting='soft', flatten_transform=True)"
   ]
  },
  {
   "cell_type": "code",
   "execution_count": 840,
   "metadata": {},
   "outputs": [
    {
     "name": "stdout",
     "output_type": "stream",
     "text": [
      "Regular Features:  80.81225284037413\n",
      "Reduced Features:  81.14493754315487\n",
      "Scaled Features:  82.94143493817087\n",
      "Reduaced and Scaled Features:  83.05002824681438\n"
     ]
    }
   ],
   "source": [
    "tdt_index = 0\n",
    "\n",
    "for i in training_data_formats:\n",
    "    score = cross_val_score(voting_clf_soft,i, y_train,cv=5)\n",
    "    print(training_data_type[tdt_index]+': ', score.mean()*100)\n",
    "    tdt_index+=1"
   ]
  },
  {
   "cell_type": "markdown",
   "metadata": {},
   "source": [
    "Hard"
   ]
  },
  {
   "cell_type": "code",
   "execution_count": 729,
   "metadata": {
    "scrolled": false
   },
   "outputs": [],
   "source": [
    "voting_clf_hard = VotingClassifier(estimators = [('lr', lr),('rf', rf),('gboost', gboost),\n",
    "                                            ('gnb', gnb),('knn', knn),('svc', svc)],\n",
    "                                             voting='hard')"
   ]
  },
  {
   "cell_type": "code",
   "execution_count": 841,
   "metadata": {},
   "outputs": [
    {
     "name": "stdout",
     "output_type": "stream",
     "text": [
      "Regular Features:  82.15554579122465\n",
      "Reduced Features:  80.35904839620865\n",
      "Scaled Features:  83.16301550436256\n",
      "Reduaced and Scaled Features:  82.82656455966355\n"
     ]
    }
   ],
   "source": [
    "tdt_index = 0\n",
    "\n",
    "for i in training_data_formats:\n",
    "    score = cross_val_score(voting_clf_hard,i, y_train,cv=5)\n",
    "    print(training_data_type[tdt_index]+': ', score.mean()*100)\n",
    "    tdt_index+=1"
   ]
  },
  {
   "cell_type": "markdown",
   "metadata": {},
   "source": [
    "**Model Comparisons**"
   ]
  },
  {
   "cell_type": "code",
   "execution_count": 957,
   "metadata": {},
   "outputs": [
    {
     "name": "stderr",
     "output_type": "stream",
     "text": [
      "/Users/khokibernier/opt/anaconda3/lib/python3.7/site-packages/sklearn/linear_model/_logistic.py:940: ConvergenceWarning: lbfgs failed to converge (status=1):\n",
      "STOP: TOTAL NO. of ITERATIONS REACHED LIMIT.\n",
      "\n",
      "Increase the number of iterations (max_iter) or scale the data as shown in:\n",
      "    https://scikit-learn.org/stable/modules/preprocessing.html\n",
      "Please also refer to the documentation for alternative solver options:\n",
      "    https://scikit-learn.org/stable/modules/linear_model.html#logistic-regression\n",
      "  extra_warning_msg=_LOGISTIC_SOLVER_CONVERGENCE_MSG)\n",
      "/Users/khokibernier/opt/anaconda3/lib/python3.7/site-packages/sklearn/linear_model/_logistic.py:940: ConvergenceWarning: lbfgs failed to converge (status=1):\n",
      "STOP: TOTAL NO. of ITERATIONS REACHED LIMIT.\n",
      "\n",
      "Increase the number of iterations (max_iter) or scale the data as shown in:\n",
      "    https://scikit-learn.org/stable/modules/preprocessing.html\n",
      "Please also refer to the documentation for alternative solver options:\n",
      "    https://scikit-learn.org/stable/modules/linear_model.html#logistic-regression\n",
      "  extra_warning_msg=_LOGISTIC_SOLVER_CONVERGENCE_MSG)\n",
      "/Users/khokibernier/opt/anaconda3/lib/python3.7/site-packages/sklearn/linear_model/_logistic.py:940: ConvergenceWarning: lbfgs failed to converge (status=1):\n",
      "STOP: TOTAL NO. of ITERATIONS REACHED LIMIT.\n",
      "\n",
      "Increase the number of iterations (max_iter) or scale the data as shown in:\n",
      "    https://scikit-learn.org/stable/modules/preprocessing.html\n",
      "Please also refer to the documentation for alternative solver options:\n",
      "    https://scikit-learn.org/stable/modules/linear_model.html#logistic-regression\n",
      "  extra_warning_msg=_LOGISTIC_SOLVER_CONVERGENCE_MSG)\n",
      "/Users/khokibernier/opt/anaconda3/lib/python3.7/site-packages/sklearn/linear_model/_logistic.py:940: ConvergenceWarning: lbfgs failed to converge (status=1):\n",
      "STOP: TOTAL NO. of ITERATIONS REACHED LIMIT.\n",
      "\n",
      "Increase the number of iterations (max_iter) or scale the data as shown in:\n",
      "    https://scikit-learn.org/stable/modules/preprocessing.html\n",
      "Please also refer to the documentation for alternative solver options:\n",
      "    https://scikit-learn.org/stable/modules/linear_model.html#logistic-regression\n",
      "  extra_warning_msg=_LOGISTIC_SOLVER_CONVERGENCE_MSG)\n",
      "/Users/khokibernier/opt/anaconda3/lib/python3.7/site-packages/sklearn/linear_model/_logistic.py:940: ConvergenceWarning: lbfgs failed to converge (status=1):\n",
      "STOP: TOTAL NO. of ITERATIONS REACHED LIMIT.\n",
      "\n",
      "Increase the number of iterations (max_iter) or scale the data as shown in:\n",
      "    https://scikit-learn.org/stable/modules/preprocessing.html\n",
      "Please also refer to the documentation for alternative solver options:\n",
      "    https://scikit-learn.org/stable/modules/linear_model.html#logistic-regression\n",
      "  extra_warning_msg=_LOGISTIC_SOLVER_CONVERGENCE_MSG)\n",
      "/Users/khokibernier/opt/anaconda3/lib/python3.7/site-packages/sklearn/linear_model/_logistic.py:940: ConvergenceWarning: lbfgs failed to converge (status=1):\n",
      "STOP: TOTAL NO. of ITERATIONS REACHED LIMIT.\n",
      "\n",
      "Increase the number of iterations (max_iter) or scale the data as shown in:\n",
      "    https://scikit-learn.org/stable/modules/preprocessing.html\n",
      "Please also refer to the documentation for alternative solver options:\n",
      "    https://scikit-learn.org/stable/modules/linear_model.html#logistic-regression\n",
      "  extra_warning_msg=_LOGISTIC_SOLVER_CONVERGENCE_MSG)\n",
      "/Users/khokibernier/opt/anaconda3/lib/python3.7/site-packages/sklearn/linear_model/_logistic.py:940: ConvergenceWarning: lbfgs failed to converge (status=1):\n",
      "STOP: TOTAL NO. of ITERATIONS REACHED LIMIT.\n",
      "\n",
      "Increase the number of iterations (max_iter) or scale the data as shown in:\n",
      "    https://scikit-learn.org/stable/modules/preprocessing.html\n",
      "Please also refer to the documentation for alternative solver options:\n",
      "    https://scikit-learn.org/stable/modules/linear_model.html#logistic-regression\n",
      "  extra_warning_msg=_LOGISTIC_SOLVER_CONVERGENCE_MSG)\n",
      "/Users/khokibernier/opt/anaconda3/lib/python3.7/site-packages/sklearn/linear_model/_logistic.py:940: ConvergenceWarning: lbfgs failed to converge (status=1):\n",
      "STOP: TOTAL NO. of ITERATIONS REACHED LIMIT.\n",
      "\n",
      "Increase the number of iterations (max_iter) or scale the data as shown in:\n",
      "    https://scikit-learn.org/stable/modules/preprocessing.html\n",
      "Please also refer to the documentation for alternative solver options:\n",
      "    https://scikit-learn.org/stable/modules/linear_model.html#logistic-regression\n",
      "  extra_warning_msg=_LOGISTIC_SOLVER_CONVERGENCE_MSG)\n",
      "/Users/khokibernier/opt/anaconda3/lib/python3.7/site-packages/sklearn/linear_model/_logistic.py:940: ConvergenceWarning: lbfgs failed to converge (status=1):\n",
      "STOP: TOTAL NO. of ITERATIONS REACHED LIMIT.\n",
      "\n",
      "Increase the number of iterations (max_iter) or scale the data as shown in:\n",
      "    https://scikit-learn.org/stable/modules/preprocessing.html\n",
      "Please also refer to the documentation for alternative solver options:\n",
      "    https://scikit-learn.org/stable/modules/linear_model.html#logistic-regression\n",
      "  extra_warning_msg=_LOGISTIC_SOLVER_CONVERGENCE_MSG)\n",
      "/Users/khokibernier/opt/anaconda3/lib/python3.7/site-packages/sklearn/linear_model/_logistic.py:940: ConvergenceWarning: lbfgs failed to converge (status=1):\n",
      "STOP: TOTAL NO. of ITERATIONS REACHED LIMIT.\n",
      "\n",
      "Increase the number of iterations (max_iter) or scale the data as shown in:\n",
      "    https://scikit-learn.org/stable/modules/preprocessing.html\n",
      "Please also refer to the documentation for alternative solver options:\n",
      "    https://scikit-learn.org/stable/modules/linear_model.html#logistic-regression\n",
      "  extra_warning_msg=_LOGISTIC_SOLVER_CONVERGENCE_MSG)\n"
     ]
    }
   ],
   "source": [
    "#training_data_type\n",
    "models = [lr, rf, gboost, gnb, knn, svc, voting_clf_hard, voting_clf_soft]\n",
    "model_names = ['Logistic Regression','Random Forest','Gradient Boost','Naive Bayes','K Nearest Neighbor',\n",
    "               'Support Vector','Voting Hard','Voting Soft']\n",
    "feature_type = []\n",
    "model = []\n",
    "scores = []\n",
    "\n",
    "tdt_index = 0\n",
    "model_index = 0\n",
    "\n",
    "for m in models:\n",
    "    for tdf in training_data_formats:\n",
    "        score = cross_val_score(m,tdf, y_train,cv=5)\n",
    "        \n",
    "        feature_type.append(training_data_type[tdt_index])\n",
    "        model.append(model_names[model_index])\n",
    "        scores.append(score.mean()*100)\n",
    "        \n",
    "        tdt_index+=1\n",
    "    tdt_index = 0\n",
    "    model_index += 1\n",
    "\n",
    "model_performance = pd.DataFrame()\n",
    "model_performance['Feature_Type'] = feature_type\n",
    "model_performance['Model'] = model\n",
    "model_performance['Score'] = scores"
   ]
  },
  {
   "cell_type": "code",
   "execution_count": 958,
   "metadata": {},
   "outputs": [
    {
     "name": "stdout",
     "output_type": "stream",
     "text": [
      "Regular Features\n"
     ]
    },
    {
     "data": {
      "text/html": [
       "<style  type=\"text/css\" >\n",
       "</style><table id=\"T_157f4590_f8b0_11ea_9b95_645aedea38eb\" ><thead>    <tr>        <th class=\"col_heading level0 col0\" >Model</th>        <th class=\"col_heading level0 col1\" >Score</th>    </tr></thead><tbody>\n",
       "                <tr>\n",
       "                                <td id=\"T_157f4590_f8b0_11ea_9b95_645aedea38ebrow0_col0\" class=\"data row0 col0\" >Logistic Regression</td>\n",
       "                        <td id=\"T_157f4590_f8b0_11ea_9b95_645aedea38ebrow0_col1\" class=\"data row0 col1\" >83.052539</td>\n",
       "            </tr>\n",
       "            <tr>\n",
       "                                <td id=\"T_157f4590_f8b0_11ea_9b95_645aedea38ebrow1_col0\" class=\"data row1 col0\" >Voting Hard</td>\n",
       "                        <td id=\"T_157f4590_f8b0_11ea_9b95_645aedea38ebrow1_col1\" class=\"data row1 col1\" >82.155546</td>\n",
       "            </tr>\n",
       "            <tr>\n",
       "                                <td id=\"T_157f4590_f8b0_11ea_9b95_645aedea38ebrow2_col0\" class=\"data row2 col0\" >Gradient Boost</td>\n",
       "                        <td id=\"T_157f4590_f8b0_11ea_9b95_645aedea38ebrow2_col1\" class=\"data row2 col1\" >82.154918</td>\n",
       "            </tr>\n",
       "            <tr>\n",
       "                                <td id=\"T_157f4590_f8b0_11ea_9b95_645aedea38ebrow3_col0\" class=\"data row3 col0\" >Voting Soft</td>\n",
       "                        <td id=\"T_157f4590_f8b0_11ea_9b95_645aedea38ebrow3_col1\" class=\"data row3 col1\" >80.812253</td>\n",
       "            </tr>\n",
       "            <tr>\n",
       "                                <td id=\"T_157f4590_f8b0_11ea_9b95_645aedea38ebrow4_col0\" class=\"data row4 col0\" >Random Forest</td>\n",
       "                        <td id=\"T_157f4590_f8b0_11ea_9b95_645aedea38ebrow4_col1\" class=\"data row4 col1\" >80.469525</td>\n",
       "            </tr>\n",
       "            <tr>\n",
       "                                <td id=\"T_157f4590_f8b0_11ea_9b95_645aedea38ebrow5_col0\" class=\"data row5 col0\" >Naive Bayes</td>\n",
       "                        <td id=\"T_157f4590_f8b0_11ea_9b95_645aedea38ebrow5_col1\" class=\"data row5 col1\" >78.115624</td>\n",
       "            </tr>\n",
       "            <tr>\n",
       "                                <td id=\"T_157f4590_f8b0_11ea_9b95_645aedea38ebrow6_col0\" class=\"data row6 col0\" >K Nearest Neighbor</td>\n",
       "                        <td id=\"T_157f4590_f8b0_11ea_9b95_645aedea38ebrow6_col1\" class=\"data row6 col1\" >70.487101</td>\n",
       "            </tr>\n",
       "            <tr>\n",
       "                                <td id=\"T_157f4590_f8b0_11ea_9b95_645aedea38ebrow7_col0\" class=\"data row7 col0\" >Support Vector</td>\n",
       "                        <td id=\"T_157f4590_f8b0_11ea_9b95_645aedea38ebrow7_col1\" class=\"data row7 col1\" >67.573285</td>\n",
       "            </tr>\n",
       "    </tbody></table>"
      ],
      "text/plain": [
       "<pandas.io.formats.style.Styler at 0x7f9925f0c390>"
      ]
     },
     "metadata": {},
     "output_type": "display_data"
    },
    {
     "name": "stdout",
     "output_type": "stream",
     "text": [
      "Reduced Features\n"
     ]
    },
    {
     "data": {
      "text/html": [
       "<style  type=\"text/css\" >\n",
       "</style><table id=\"T_15802852_f8b0_11ea_9b95_645aedea38eb\" ><thead>    <tr>        <th class=\"col_heading level0 col0\" >Model</th>        <th class=\"col_heading level0 col1\" >Score</th>    </tr></thead><tbody>\n",
       "                <tr>\n",
       "                                <td id=\"T_15802852_f8b0_11ea_9b95_645aedea38ebrow0_col0\" class=\"data row0 col0\" >Gradient Boost</td>\n",
       "                        <td id=\"T_15802852_f8b0_11ea_9b95_645aedea38ebrow0_col1\" class=\"data row0 col1\" >82.041931</td>\n",
       "            </tr>\n",
       "            <tr>\n",
       "                                <td id=\"T_15802852_f8b0_11ea_9b95_645aedea38ebrow1_col0\" class=\"data row1 col0\" >Voting Soft</td>\n",
       "                        <td id=\"T_15802852_f8b0_11ea_9b95_645aedea38ebrow1_col1\" class=\"data row1 col1\" >81.144938</td>\n",
       "            </tr>\n",
       "            <tr>\n",
       "                                <td id=\"T_15802852_f8b0_11ea_9b95_645aedea38ebrow2_col0\" class=\"data row2 col0\" >Voting Hard</td>\n",
       "                        <td id=\"T_15802852_f8b0_11ea_9b95_645aedea38ebrow2_col1\" class=\"data row2 col1\" >80.246689</td>\n",
       "            </tr>\n",
       "            <tr>\n",
       "                                <td id=\"T_15802852_f8b0_11ea_9b95_645aedea38ebrow3_col0\" class=\"data row3 col0\" >Random Forest</td>\n",
       "                        <td id=\"T_15802852_f8b0_11ea_9b95_645aedea38ebrow3_col1\" class=\"data row3 col1\" >80.023853</td>\n",
       "            </tr>\n",
       "            <tr>\n",
       "                                <td id=\"T_15802852_f8b0_11ea_9b95_645aedea38ebrow4_col0\" class=\"data row4 col0\" >Logistic Regression</td>\n",
       "                        <td id=\"T_15802852_f8b0_11ea_9b95_645aedea38ebrow4_col1\" class=\"data row4 col1\" >79.908355</td>\n",
       "            </tr>\n",
       "            <tr>\n",
       "                                <td id=\"T_15802852_f8b0_11ea_9b95_645aedea38ebrow5_col0\" class=\"data row5 col0\" >Naive Bayes</td>\n",
       "                        <td id=\"T_15802852_f8b0_11ea_9b95_645aedea38ebrow5_col1\" class=\"data row5 col1\" >79.011989</td>\n",
       "            </tr>\n",
       "            <tr>\n",
       "                                <td id=\"T_15802852_f8b0_11ea_9b95_645aedea38ebrow6_col0\" class=\"data row6 col0\" >K Nearest Neighbor</td>\n",
       "                        <td id=\"T_15802852_f8b0_11ea_9b95_645aedea38ebrow6_col1\" class=\"data row6 col1\" >71.048898</td>\n",
       "            </tr>\n",
       "            <tr>\n",
       "                                <td id=\"T_15802852_f8b0_11ea_9b95_645aedea38ebrow7_col0\" class=\"data row7 col0\" >Support Vector</td>\n",
       "                        <td id=\"T_15802852_f8b0_11ea_9b95_645aedea38ebrow7_col1\" class=\"data row7 col1\" >67.349821</td>\n",
       "            </tr>\n",
       "    </tbody></table>"
      ],
      "text/plain": [
       "<pandas.io.formats.style.Styler at 0x7f9925eed890>"
      ]
     },
     "metadata": {},
     "output_type": "display_data"
    },
    {
     "name": "stdout",
     "output_type": "stream",
     "text": [
      "Scaled Features\n"
     ]
    },
    {
     "data": {
      "text/html": [
       "<style  type=\"text/css\" >\n",
       "</style><table id=\"T_158108e4_f8b0_11ea_9b95_645aedea38eb\" ><thead>    <tr>        <th class=\"col_heading level0 col0\" >Model</th>        <th class=\"col_heading level0 col1\" >Score</th>    </tr></thead><tbody>\n",
       "                <tr>\n",
       "                                <td id=\"T_158108e4_f8b0_11ea_9b95_645aedea38ebrow0_col0\" class=\"data row0 col0\" >Support Vector</td>\n",
       "                        <td id=\"T_158108e4_f8b0_11ea_9b95_645aedea38ebrow0_col1\" class=\"data row0 col1\" >83.499466</td>\n",
       "            </tr>\n",
       "            <tr>\n",
       "                                <td id=\"T_158108e4_f8b0_11ea_9b95_645aedea38ebrow1_col0\" class=\"data row1 col0\" >Logistic Regression</td>\n",
       "                        <td id=\"T_158108e4_f8b0_11ea_9b95_645aedea38ebrow1_col1\" class=\"data row1 col1\" >83.164899</td>\n",
       "            </tr>\n",
       "            <tr>\n",
       "                                <td id=\"T_158108e4_f8b0_11ea_9b95_645aedea38ebrow2_col0\" class=\"data row2 col0\" >Voting Hard</td>\n",
       "                        <td id=\"T_158108e4_f8b0_11ea_9b95_645aedea38ebrow2_col1\" class=\"data row2 col1\" >83.050656</td>\n",
       "            </tr>\n",
       "            <tr>\n",
       "                                <td id=\"T_158108e4_f8b0_11ea_9b95_645aedea38ebrow3_col0\" class=\"data row3 col0\" >Voting Soft</td>\n",
       "                        <td id=\"T_158108e4_f8b0_11ea_9b95_645aedea38ebrow3_col1\" class=\"data row3 col1\" >82.941435</td>\n",
       "            </tr>\n",
       "            <tr>\n",
       "                                <td id=\"T_158108e4_f8b0_11ea_9b95_645aedea38ebrow4_col0\" class=\"data row4 col0\" >Gradient Boost</td>\n",
       "                        <td id=\"T_158108e4_f8b0_11ea_9b95_645aedea38ebrow4_col1\" class=\"data row4 col1\" >82.154918</td>\n",
       "            </tr>\n",
       "            <tr>\n",
       "                                <td id=\"T_158108e4_f8b0_11ea_9b95_645aedea38ebrow5_col0\" class=\"data row5 col0\" >K Nearest Neighbor</td>\n",
       "                        <td id=\"T_158108e4_f8b0_11ea_9b95_645aedea38ebrow5_col1\" class=\"data row5 col1\" >81.480133</td>\n",
       "            </tr>\n",
       "            <tr>\n",
       "                                <td id=\"T_158108e4_f8b0_11ea_9b95_645aedea38ebrow6_col0\" class=\"data row6 col0\" >Random Forest</td>\n",
       "                        <td id=\"T_158108e4_f8b0_11ea_9b95_645aedea38ebrow6_col1\" class=\"data row6 col1\" >80.581884</td>\n",
       "            </tr>\n",
       "            <tr>\n",
       "                                <td id=\"T_158108e4_f8b0_11ea_9b95_645aedea38ebrow7_col0\" class=\"data row7 col0\" >Naive Bayes</td>\n",
       "                        <td id=\"T_158108e4_f8b0_11ea_9b95_645aedea38ebrow7_col1\" class=\"data row7 col1\" >76.097546</td>\n",
       "            </tr>\n",
       "    </tbody></table>"
      ],
      "text/plain": [
       "<pandas.io.formats.style.Styler at 0x7f9925fcf610>"
      ]
     },
     "metadata": {},
     "output_type": "display_data"
    },
    {
     "name": "stdout",
     "output_type": "stream",
     "text": [
      "Reduced and Scaled Features\n"
     ]
    },
    {
     "data": {
      "text/html": [
       "<style  type=\"text/css\" >\n",
       "</style><table id=\"T_1582010e_f8b0_11ea_9b95_645aedea38eb\" ><thead>    <tr>        <th class=\"col_heading level0 col0\" >Model</th>        <th class=\"col_heading level0 col1\" >Score</th>    </tr></thead><tbody>\n",
       "                <tr>\n",
       "                                <td id=\"T_1582010e_f8b0_11ea_9b95_645aedea38ebrow0_col0\" class=\"data row0 col0\" >Support Vector</td>\n",
       "                        <td id=\"T_1582010e_f8b0_11ea_9b95_645aedea38ebrow0_col1\" class=\"data row0 col1\" >83.050656</td>\n",
       "            </tr>\n",
       "            <tr>\n",
       "                                <td id=\"T_1582010e_f8b0_11ea_9b95_645aedea38ebrow1_col0\" class=\"data row1 col0\" >Voting Soft</td>\n",
       "                        <td id=\"T_1582010e_f8b0_11ea_9b95_645aedea38ebrow1_col1\" class=\"data row1 col1\" >83.050028</td>\n",
       "            </tr>\n",
       "            <tr>\n",
       "                                <td id=\"T_1582010e_f8b0_11ea_9b95_645aedea38ebrow2_col0\" class=\"data row2 col0\" >Voting Hard</td>\n",
       "                        <td id=\"T_1582010e_f8b0_11ea_9b95_645aedea38ebrow2_col1\" class=\"data row2 col1\" >82.826565</td>\n",
       "            </tr>\n",
       "            <tr>\n",
       "                                <td id=\"T_1582010e_f8b0_11ea_9b95_645aedea38ebrow3_col0\" class=\"data row3 col0\" >Gradient Boost</td>\n",
       "                        <td id=\"T_1582010e_f8b0_11ea_9b95_645aedea38ebrow3_col1\" class=\"data row3 col1\" >82.041931</td>\n",
       "            </tr>\n",
       "            <tr>\n",
       "                                <td id=\"T_1582010e_f8b0_11ea_9b95_645aedea38ebrow4_col0\" class=\"data row4 col0\" >K Nearest Neighbor</td>\n",
       "                        <td id=\"T_1582010e_f8b0_11ea_9b95_645aedea38ebrow4_col1\" class=\"data row4 col1\" >80.697382</td>\n",
       "            </tr>\n",
       "            <tr>\n",
       "                                <td id=\"T_1582010e_f8b0_11ea_9b95_645aedea38ebrow5_col0\" class=\"data row5 col0\" >Logistic Regression</td>\n",
       "                        <td id=\"T_1582010e_f8b0_11ea_9b95_645aedea38ebrow5_col1\" class=\"data row5 col1\" >79.908355</td>\n",
       "            </tr>\n",
       "            <tr>\n",
       "                                <td id=\"T_1582010e_f8b0_11ea_9b95_645aedea38ebrow6_col0\" class=\"data row6 col0\" >Random Forest</td>\n",
       "                        <td id=\"T_1582010e_f8b0_11ea_9b95_645aedea38ebrow6_col1\" class=\"data row6 col1\" >79.799134</td>\n",
       "            </tr>\n",
       "            <tr>\n",
       "                                <td id=\"T_1582010e_f8b0_11ea_9b95_645aedea38ebrow7_col0\" class=\"data row7 col0\" >Naive Bayes</td>\n",
       "                        <td id=\"T_1582010e_f8b0_11ea_9b95_645aedea38ebrow7_col1\" class=\"data row7 col1\" >79.011989</td>\n",
       "            </tr>\n",
       "    </tbody></table>"
      ],
      "text/plain": [
       "<pandas.io.formats.style.Styler at 0x7f9925c5d890>"
      ]
     },
     "metadata": {},
     "output_type": "display_data"
    }
   ],
   "source": [
    "from IPython.display import display\n",
    "print('Regular Features')\n",
    "display(model_performance[model_performance.Feature_Type == 'Regular Features'].sort_values(by = ['Score'],ascending=False,)[['Model','Score']].style.hide_index())\n",
    "print('Reduced Features')\n",
    "display(model_performance[model_performance.Feature_Type == 'Reduced Features'].sort_values(by = ['Score'],ascending=False,)[['Model','Score']].style.hide_index())\n",
    "print('Scaled Features')\n",
    "display(model_performance[model_performance.Feature_Type == 'Scaled Features'].sort_values(by = ['Score'],ascending=False,)[['Model','Score']].style.hide_index())\n",
    "print('Reduced and Scaled Features')\n",
    "display(model_performance[model_performance.Feature_Type == 'Reduaced and Scaled Features'].sort_values(by = ['Score'],ascending=False,)[['Model','Score']].style.hide_index())"
   ]
  },
  {
   "cell_type": "code",
   "execution_count": null,
   "metadata": {},
   "outputs": [],
   "source": []
  },
  {
   "cell_type": "markdown",
   "metadata": {},
   "source": [
    "# Model Tuning"
   ]
  },
  {
   "cell_type": "code",
   "execution_count": 97,
   "metadata": {},
   "outputs": [],
   "source": [
    "from sklearn.model_selection import GridSearchCV \n",
    "from sklearn.model_selection import RandomizedSearchCV "
   ]
  },
  {
   "cell_type": "code",
   "execution_count": 98,
   "metadata": {},
   "outputs": [],
   "source": [
    "#simple performance reporting function\n",
    "def clf_performance(classifier, model_name):\n",
    "    print(model_name)\n",
    "    print('Best Score: ' + str(classifier.best_score_))\n",
    "    print('Best Parameters: ' + str(classifier.best_params_))"
   ]
  },
  {
   "cell_type": "markdown",
   "metadata": {},
   "source": [
    "**Logistic Regression**"
   ]
  },
  {
   "cell_type": "code",
   "execution_count": 844,
   "metadata": {
    "scrolled": false
   },
   "outputs": [
    {
     "name": "stdout",
     "output_type": "stream",
     "text": [
      "Fitting 5 folds for each of 40 candidates, totalling 200 fits\n"
     ]
    },
    {
     "name": "stderr",
     "output_type": "stream",
     "text": [
      "[Parallel(n_jobs=-1)]: Using backend LokyBackend with 8 concurrent workers.\n",
      "[Parallel(n_jobs=-1)]: Done  56 tasks      | elapsed:    0.2s\n"
     ]
    },
    {
     "name": "stdout",
     "output_type": "stream",
     "text": [
      "Logistic Regression\n",
      "Best Score: 0.8305316678174629\n",
      "Best Parameters: {'C': 1.623776739188721, 'max_iter': 2000, 'penalty': 'l1', 'solver': 'liblinear'}\n"
     ]
    },
    {
     "name": "stderr",
     "output_type": "stream",
     "text": [
      "[Parallel(n_jobs=-1)]: Done 200 out of 200 | elapsed:    1.0s finished\n"
     ]
    }
   ],
   "source": [
    "lr = LogisticRegression()\n",
    "param_grid = {'max_iter' : [2000],\n",
    "              'penalty' : ['l1', 'l2'],\n",
    "              'C' : np.logspace(-4, 4, 20),\n",
    "              'solver' : ['liblinear']}\n",
    "\n",
    "\n",
    "clf_lr = GridSearchCV(lr, param_grid = param_grid, cv = 5, verbose = True, n_jobs = -1)\n",
    "best_clf_lr = clf_lr.fit(x_train_scaled,y_train)\n",
    "clf_performance(best_clf_lr,'Logistic Regression')"
   ]
  },
  {
   "cell_type": "markdown",
   "metadata": {},
   "source": [
    "**Random Forest**"
   ]
  },
  {
   "cell_type": "code",
   "execution_count": 845,
   "metadata": {},
   "outputs": [
    {
     "name": "stdout",
     "output_type": "stream",
     "text": [
      "Fitting 5 folds for each of 54 candidates, totalling 270 fits\n"
     ]
    },
    {
     "name": "stderr",
     "output_type": "stream",
     "text": [
      "[Parallel(n_jobs=-1)]: Using backend LokyBackend with 8 concurrent workers.\n",
      "[Parallel(n_jobs=-1)]: Done  34 tasks      | elapsed:   12.6s\n",
      "[Parallel(n_jobs=-1)]: Done 184 tasks      | elapsed:  1.0min\n",
      "[Parallel(n_jobs=-1)]: Done 270 out of 270 | elapsed:  1.5min finished\n"
     ]
    },
    {
     "name": "stdout",
     "output_type": "stream",
     "text": [
      "Random Forest\n",
      "Best Score: 0.8327788588286987\n",
      "Best Parameters: {'bootstrap': True, 'criterion': 'entropy', 'max_depth': 40, 'max_features': 'auto', 'min_samples_leaf': 1, 'min_samples_split': 7, 'n_estimators': 550}\n"
     ]
    }
   ],
   "source": [
    "rf = RandomForestClassifier(random_state = 1)\n",
    "param_grid =  {'n_estimators': [550, 600, 650],\n",
    "               'criterion':['entropy'],#'gini',\n",
    "                                  'bootstrap': [True],\n",
    "                                  'max_depth': [40, 50, 60],\n",
    "                                  'max_features': ['auto'],#,'sqrt'],\n",
    "                                  'min_samples_leaf': [1,2],\n",
    "                                  'min_samples_split': [7,10,13]}\n",
    "                                  \n",
    "clf_rf = GridSearchCV(rf, param_grid = param_grid, cv = 5, verbose = True, n_jobs = -1)\n",
    "best_clf_rf = clf_rf.fit(x_train_scaled,y_train)\n",
    "clf_performance(best_clf_rf,'Random Forest')"
   ]
  },
  {
   "cell_type": "code",
   "execution_count": 846,
   "metadata": {},
   "outputs": [
    {
     "data": {
      "text/plain": [
       "<matplotlib.axes._subplots.AxesSubplot at 0x7f991c71f490>"
      ]
     },
     "execution_count": 846,
     "metadata": {},
     "output_type": "execute_result"
    },
    {
     "data": {
      "image/png": "[encoded data removed]",
      "text/plain": [
       "<Figure size 432x288 with 1 Axes>"
      ]
     },
     "metadata": {
      "needs_background": "light"
     },
     "output_type": "display_data"
    }
   ],
   "source": [
    "best_rf = best_clf_rf.best_estimator_.fit(x_train_scaled,y_train)\n",
    "feat_importances = pd.Series(best_rf.feature_importances_, index=x_train_scaled.columns)\n",
    "feat_importances.nlargest(20).plot(kind='barh')"
   ]
  },
  {
   "cell_type": "markdown",
   "metadata": {},
   "source": [
    "**XGBoost**"
   ]
  },
  {
   "cell_type": "code",
   "execution_count": 847,
   "metadata": {},
   "outputs": [
    {
     "name": "stdout",
     "output_type": "stream",
     "text": [
      "Fitting 5 folds for each of 324 candidates, totalling 1620 fits\n"
     ]
    },
    {
     "name": "stderr",
     "output_type": "stream",
     "text": [
      "[Parallel(n_jobs=-1)]: Using backend LokyBackend with 8 concurrent workers.\n",
      "[Parallel(n_jobs=-1)]: Done  52 tasks      | elapsed:    1.0s\n",
      "[Parallel(n_jobs=-1)]: Done 352 tasks      | elapsed:    5.4s\n",
      "[Parallel(n_jobs=-1)]: Done 852 tasks      | elapsed:   14.5s\n",
      "[Parallel(n_jobs=-1)]: Done 1552 tasks      | elapsed:   31.3s\n"
     ]
    },
    {
     "name": "stdout",
     "output_type": "stream",
     "text": [
      "XGradient Boost\n",
      "Best Score: 0.8406377502981608\n",
      "Best Parameters: {'colsample_bytree': 0.2, 'gamma': 1.8, 'learning_rate': 0.45, 'max_depth': None, 'min_child_weight': 0}\n"
     ]
    },
    {
     "name": "stderr",
     "output_type": "stream",
     "text": [
      "[Parallel(n_jobs=-1)]: Done 1620 out of 1620 | elapsed:   32.8s finished\n"
     ]
    }
   ],
   "source": [
    "xgb = XGBClassifier(random_state = 1)\n",
    "\n",
    "param_grid = {\n",
    "    #'n_estimators': [50, 100, 400, 500, 600],\n",
    "    'colsample_bytree': [0.15, .2, .25],\n",
    "    'max_depth': [13, 15, 17, None],\n",
    "    #'reg_alpha': [0, 0.5, 1],\n",
    "    #'reg_lambda': [1, 1.5, 2],\n",
    "    #'subsample': [0.5,0.6,0.7, 0.8, 0.9],\n",
    "    'learning_rate':[0.45,0.5,0.55],\n",
    "    'gamma':[1.8, 2, 2.2],\n",
    "    'min_child_weight':[0,.001,.002]\n",
    "    #'sampling_method': ['uniform', 'gradient_based']\n",
    "}\n",
    "\n",
    "clf_xgb = GridSearchCV(xgb, param_grid = param_grid, cv = 5, verbose = True, n_jobs = -1)\n",
    "best_clf_xgb = clf_xgb.fit(x_train_scaled,y_train)\n",
    "clf_performance(best_clf_xgb,'XGradient Boost')"
   ]
  },
  {
   "cell_type": "markdown",
   "metadata": {},
   "source": [
    "**K Nearest Neighbor**"
   ]
  },
  {
   "cell_type": "code",
   "execution_count": 848,
   "metadata": {},
   "outputs": [
    {
     "name": "stdout",
     "output_type": "stream",
     "text": [
      "Fitting 5 folds for each of 36 candidates, totalling 180 fits\n"
     ]
    },
    {
     "name": "stderr",
     "output_type": "stream",
     "text": [
      "[Parallel(n_jobs=-1)]: Using backend LokyBackend with 8 concurrent workers.\n",
      "[Parallel(n_jobs=-1)]: Done  56 tasks      | elapsed:    0.3s\n"
     ]
    },
    {
     "name": "stdout",
     "output_type": "stream",
     "text": [
      "K Nearest Neighbor\n",
      "Best Score: 0.8226853304877283\n",
      "Best Parameters: {'algorithm': 'auto', 'n_neighbors': 6, 'p': 1, 'weights': 'uniform'}\n"
     ]
    },
    {
     "name": "stderr",
     "output_type": "stream",
     "text": [
      "[Parallel(n_jobs=-1)]: Done 180 out of 180 | elapsed:    0.6s finished\n"
     ]
    }
   ],
   "source": [
    "knn = KNeighborsClassifier()\n",
    "param_grid = {'n_neighbors' : [4,5,6],\n",
    "              'weights' : ['uniform', 'distance'],\n",
    "              'algorithm' : ['auto', 'ball_tree','kd_tree'],\n",
    "              'p' : [1,2]}\n",
    "clf_knn = GridSearchCV(knn, param_grid = param_grid, cv = 5, verbose = True, n_jobs = -1)\n",
    "best_clf_knn = clf_knn.fit(x_train_scaled,y_train)\n",
    "clf_performance(best_clf_knn,'K Nearest Neighbor')"
   ]
  },
  {
   "cell_type": "markdown",
   "metadata": {},
   "source": [
    "**Support Vector**"
   ]
  },
  {
   "cell_type": "code",
   "execution_count": 849,
   "metadata": {},
   "outputs": [
    {
     "name": "stdout",
     "output_type": "stream",
     "text": [
      "Fitting 5 folds for each of 9 candidates, totalling 45 fits\n"
     ]
    },
    {
     "name": "stderr",
     "output_type": "stream",
     "text": [
      "[Parallel(n_jobs=-1)]: Using backend LokyBackend with 8 concurrent workers.\n",
      "[Parallel(n_jobs=-1)]: Done  30 out of  45 | elapsed:    0.7s remaining:    0.3s\n"
     ]
    },
    {
     "name": "stdout",
     "output_type": "stream",
     "text": [
      "SVC\n",
      "Best Score: 0.8372418555018518\n",
      "Best Parameters: {'C': 0.75, 'gamma': 0.1, 'kernel': 'rbf'}\n"
     ]
    },
    {
     "name": "stderr",
     "output_type": "stream",
     "text": [
      "[Parallel(n_jobs=-1)]: Done  45 out of  45 | elapsed:    0.9s finished\n"
     ]
    }
   ],
   "source": [
    "svc = SVC(probability = True)\n",
    "param_grid = tuned_parameters = [{'kernel': ['rbf'], 'gamma': [.095,.1,.105], 'C': [.65, .7, .75]}]#,\n",
    "                                 #{'kernel': ['linear'], 'C': [.1, 1, 10, 100]},\n",
    "                                 #{'kernel': ['poly'], 'degree' : [2,4], 'C': [.1, 1, 10, 100]}]\n",
    "clf_svc = GridSearchCV(svc, param_grid = param_grid, cv = 5, verbose = True, n_jobs = -1)\n",
    "best_clf_svc = clf_svc.fit(x_train_scaled,y_train)\n",
    "clf_performance(best_clf_svc,'SVC')"
   ]
  },
  {
   "cell_type": "markdown",
   "metadata": {},
   "source": [
    "# Combining Models"
   ]
  },
  {
   "cell_type": "code",
   "execution_count": 850,
   "metadata": {},
   "outputs": [],
   "source": [
    "best_lr = best_clf_lr.best_estimator_\n",
    "best_knn = best_clf_knn.best_estimator_\n",
    "best_svc = best_clf_svc.best_estimator_\n",
    "best_xgb = best_clf_xgb.best_estimator_\n",
    "\n",
    "#not planning to use RF\n",
    "best_rf = best_clf_rf.best_estimator_"
   ]
  },
  {
   "cell_type": "code",
   "execution_count": 851,
   "metadata": {},
   "outputs": [
    {
     "data": {
      "text/plain": [
       "84.0631473228297"
      ]
     },
     "execution_count": 851,
     "metadata": {},
     "output_type": "execute_result"
    }
   ],
   "source": [
    "voting_hard_clf_scaled_tuned = VotingClassifier(estimators = [('lr',best_lr), ('knn',best_knn), ('svc',best_svc), ('xbg',best_xgb)], voting='hard')\n",
    "cross_val_score(voting_hard_clf_scaled_tuned, x_train_scaled, y_train, cv=5).mean()*100"
   ]
  },
  {
   "cell_type": "code",
   "execution_count": 852,
   "metadata": {},
   "outputs": [
    {
     "data": {
      "text/plain": [
       "83.72606867114432"
      ]
     },
     "execution_count": 852,
     "metadata": {},
     "output_type": "execute_result"
    }
   ],
   "source": [
    "voting_soft_clf_scaled_tuned = VotingClassifier(estimators = [('lr',best_lr), ('knn',best_knn), ('svc',best_svc), ('xbg',best_xgb)], voting='soft')\n",
    "cross_val_score(voting_soft_clf_scaled_tuned, x_train_scaled, y_train, cv=5).mean()*100"
   ]
  },
  {
   "cell_type": "code",
   "execution_count": 853,
   "metadata": {},
   "outputs": [],
   "source": [
    "tuned_models = [best_lr, best_rf, best_xgb, best_knn, best_svc, voting_hard_clf_scaled_tuned, voting_soft_clf_scaled_tuned]\n",
    "tuned_model_names = ['Logistic Regression','Random Forest','Gradient Boost','K Nearest Neighbor',\n",
    "                     'Support Vector','Voting Hard','Voting Soft']\n",
    "\n",
    "tuned_model = []\n",
    "tuned_scores = []\n",
    "\n",
    "model_index = 0\n",
    "\n",
    "for tm in tuned_models:\n",
    "    score = cross_val_score(tm,x_train_scaled, y_train,cv=5)\n",
    "    tuned_scores.append(score.mean()*100)\n",
    "\n",
    "for model_name in tuned_model_names:\n",
    "    tuned_model.append(model_name)  \n",
    "\n",
    "tuned_model_perf = pd.DataFrame()\n",
    "tuned_model_perf['Model'] = tuned_model\n",
    "tuned_model_perf['Tuned Score'] = tuned_scores\n",
    "tuned_model_perf = pd.merge(model_performance[model_performance.Feature_Type == 'Scaled Features'].sort_values(by = ['Score'],ascending=False,)[['Model','Score','Feature_Type']], tuned_model_perf, how='inner',left_on=['Model'], right_on=['Model'])\n",
    "tuned_model_perf['Score Difference'] = tuned_model_perf['Tuned Score'] - tuned_model_perf.Score"
   ]
  },
  {
   "cell_type": "code",
   "execution_count": 854,
   "metadata": {},
   "outputs": [
    {
     "data": {
      "text/html": [
       "<style  type=\"text/css\" >\n",
       "</style><table id=\"T_b4de22e6_f879_11ea_9b95_645aedea38eb\" ><thead>    <tr>        <th class=\"col_heading level0 col0\" >Model</th>        <th class=\"col_heading level0 col1\" >Score</th>        <th class=\"col_heading level0 col2\" >Tuned Score</th>        <th class=\"col_heading level0 col3\" >Score Difference</th>    </tr></thead><tbody>\n",
       "                <tr>\n",
       "                                <td id=\"T_b4de22e6_f879_11ea_9b95_645aedea38ebrow0_col0\" class=\"data row0 col0\" >Gradient Boost</td>\n",
       "                        <td id=\"T_b4de22e6_f879_11ea_9b95_645aedea38ebrow0_col1\" class=\"data row0 col1\" >82.042559</td>\n",
       "                        <td id=\"T_b4de22e6_f879_11ea_9b95_645aedea38ebrow0_col2\" class=\"data row0 col2\" >84.063775</td>\n",
       "                        <td id=\"T_b4de22e6_f879_11ea_9b95_645aedea38ebrow0_col3\" class=\"data row0 col3\" >2.021216</td>\n",
       "            </tr>\n",
       "            <tr>\n",
       "                                <td id=\"T_b4de22e6_f879_11ea_9b95_645aedea38ebrow1_col0\" class=\"data row1 col0\" >Voting Hard</td>\n",
       "                        <td id=\"T_b4de22e6_f879_11ea_9b95_645aedea38ebrow1_col1\" class=\"data row1 col1\" >83.163016</td>\n",
       "                        <td id=\"T_b4de22e6_f879_11ea_9b95_645aedea38ebrow1_col2\" class=\"data row1 col2\" >84.063147</td>\n",
       "                        <td id=\"T_b4de22e6_f879_11ea_9b95_645aedea38ebrow1_col3\" class=\"data row1 col3\" >0.900132</td>\n",
       "            </tr>\n",
       "            <tr>\n",
       "                                <td id=\"T_b4de22e6_f879_11ea_9b95_645aedea38ebrow2_col0\" class=\"data row2 col0\" >Support Vector</td>\n",
       "                        <td id=\"T_b4de22e6_f879_11ea_9b95_645aedea38ebrow2_col1\" class=\"data row2 col1\" >83.499466</td>\n",
       "                        <td id=\"T_b4de22e6_f879_11ea_9b95_645aedea38ebrow2_col2\" class=\"data row2 col2\" >83.724186</td>\n",
       "                        <td id=\"T_b4de22e6_f879_11ea_9b95_645aedea38ebrow2_col3\" class=\"data row2 col3\" >0.224719</td>\n",
       "            </tr>\n",
       "            <tr>\n",
       "                                <td id=\"T_b4de22e6_f879_11ea_9b95_645aedea38ebrow3_col0\" class=\"data row3 col0\" >Voting Soft</td>\n",
       "                        <td id=\"T_b4de22e6_f879_11ea_9b95_645aedea38ebrow3_col1\" class=\"data row3 col1\" >82.941435</td>\n",
       "                        <td id=\"T_b4de22e6_f879_11ea_9b95_645aedea38ebrow3_col2\" class=\"data row3 col2\" >83.613709</td>\n",
       "                        <td id=\"T_b4de22e6_f879_11ea_9b95_645aedea38ebrow3_col3\" class=\"data row3 col3\" >0.672274</td>\n",
       "            </tr>\n",
       "            <tr>\n",
       "                                <td id=\"T_b4de22e6_f879_11ea_9b95_645aedea38ebrow4_col0\" class=\"data row4 col0\" >Random Forest</td>\n",
       "                        <td id=\"T_b4de22e6_f879_11ea_9b95_645aedea38ebrow4_col1\" class=\"data row4 col1\" >80.581884</td>\n",
       "                        <td id=\"T_b4de22e6_f879_11ea_9b95_645aedea38ebrow4_col2\" class=\"data row4 col2\" >83.277886</td>\n",
       "                        <td id=\"T_b4de22e6_f879_11ea_9b95_645aedea38ebrow4_col3\" class=\"data row4 col3\" >2.696002</td>\n",
       "            </tr>\n",
       "            <tr>\n",
       "                                <td id=\"T_b4de22e6_f879_11ea_9b95_645aedea38ebrow5_col0\" class=\"data row5 col0\" >Logistic Regression</td>\n",
       "                        <td id=\"T_b4de22e6_f879_11ea_9b95_645aedea38ebrow5_col1\" class=\"data row5 col1\" >83.164899</td>\n",
       "                        <td id=\"T_b4de22e6_f879_11ea_9b95_645aedea38ebrow5_col2\" class=\"data row5 col2\" >83.053167</td>\n",
       "                        <td id=\"T_b4de22e6_f879_11ea_9b95_645aedea38ebrow5_col3\" class=\"data row5 col3\" >-0.111732</td>\n",
       "            </tr>\n",
       "            <tr>\n",
       "                                <td id=\"T_b4de22e6_f879_11ea_9b95_645aedea38ebrow6_col0\" class=\"data row6 col0\" >K Nearest Neighbor</td>\n",
       "                        <td id=\"T_b4de22e6_f879_11ea_9b95_645aedea38ebrow6_col1\" class=\"data row6 col1\" >81.480133</td>\n",
       "                        <td id=\"T_b4de22e6_f879_11ea_9b95_645aedea38ebrow6_col2\" class=\"data row6 col2\" >82.268533</td>\n",
       "                        <td id=\"T_b4de22e6_f879_11ea_9b95_645aedea38ebrow6_col3\" class=\"data row6 col3\" >0.788400</td>\n",
       "            </tr>\n",
       "    </tbody></table>"
      ],
      "text/plain": [
       "<pandas.io.formats.style.Styler at 0x7f9920d49d10>"
      ]
     },
     "execution_count": 854,
     "metadata": {},
     "output_type": "execute_result"
    }
   ],
   "source": [
    "tuned_model_perf.sort_values(by=['Tuned Score'], ascending=False)[['Model','Score','Tuned Score','Score Difference']].style.hide_index()"
   ]
  },
  {
   "cell_type": "markdown",
   "metadata": {},
   "source": [
    "# Make Prediction and Submit"
   ]
  },
  {
   "cell_type": "code",
   "execution_count": 919,
   "metadata": {},
   "outputs": [],
   "source": [
    "voting_soft_clf_scaled_tuned.fit(x_train_scaled, y_train)\n",
    "prediction = voting_soft_clf_scaled_tuned.predict(x_test_scaled).astype(int)"
   ]
  },
  {
   "cell_type": "code",
   "execution_count": 920,
   "metadata": {},
   "outputs": [],
   "source": [
    "submission_data = {'PassengerId': test.PassengerId, 'Survived': prediction}\n",
    "titanic_submission = pd.DataFrame(data=submission_data)"
   ]
  },
  {
   "cell_type": "code",
   "execution_count": 921,
   "metadata": {},
   "outputs": [],
   "source": [
    "titanic_submission.to_csv('titanic_submission.csv', index =False)"
   ]
  }
 ],
 "metadata": {
  "kernelspec": {
   "display_name": "Python 3",
   "language": "python",
   "name": "python3"
  },
  "language_info": {
   "codemirror_mode": {
    "name": "ipython",
    "version": 3
   },
   "file_extension": ".py",
   "mimetype": "text/x-python",
   "name": "python",
   "nbconvert_exporter": "python",
   "pygments_lexer": "ipython3",
   "version": "3.7.6"
  }
 },
 "nbformat": 4,
 "nbformat_minor": 4
}
